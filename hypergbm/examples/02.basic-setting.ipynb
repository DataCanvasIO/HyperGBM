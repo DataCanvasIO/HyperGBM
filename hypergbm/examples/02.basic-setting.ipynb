{
 "cells": [
  {
   "cell_type": "markdown",
   "id": "50ed32de",
   "metadata": {},
   "source": [
    "## Prepare train_data and test_data"
   ]
  },
  {
   "cell_type": "code",
   "execution_count": 1,
   "id": "b3b0c7d4",
   "metadata": {
    "scrolled": true
   },
   "outputs": [],
   "source": [
    "import pandas as pd\n",
    "from sklearn import datasets\n",
    "from sklearn.model_selection import train_test_split\n",
    "from hypergbm import make_experiment"
   ]
  },
  {
   "cell_type": "code",
   "execution_count": 3,
   "id": "913bfc32",
   "metadata": {},
   "outputs": [],
   "source": [
    "X,y = datasets.load_breast_cancer(as_frame=True,return_X_y=True)\n",
    "X_train,X_test,y_train,y_test = train_test_split(X,y,train_size=0.7,random_state=335)\n",
    "train_data = pd.concat([X_train,y_train],axis=1)"
   ]
  },
  {
   "cell_type": "markdown",
   "id": "ce270b47-4d82-480e-a806-fdded00ade23",
   "metadata": {},
   "source": [
    "# Set the maximum trial number\n",
    "\n",
    "set the maximum trial number with `max_trials`, default is 10."
   ]
  },
  {
   "cell_type": "code",
   "execution_count": 4,
   "id": "fac042b2-d50c-4599-96a1-432efa160f30",
   "metadata": {
    "tags": []
   },
   "outputs": [
    {
     "name": "stdout",
     "output_type": "stream",
     "text": [
      "Pipeline(steps=[('data_clean',\n",
      "                 DataCleanStep(cv=True,\n",
      "                               data_cleaner_args={'correct_object_dtype': True,\n",
      "                                                  'drop_columns': None,\n",
      "                                                  'drop_constant_columns': True,\n",
      "                                                  'drop_duplicated_columns': False,\n",
      "                                                  'drop_idness_columns': True,\n",
      "                                                  'drop_label_nan_rows': True,\n",
      "                                                  'int_convert_to': 'float',\n",
      "                                                  'nan_chars': None,\n",
      "                                                  'reduce_mem_usage': False,\n",
      "                                                  'reserve_columns': None},\n",
      "                               name='data_clean')),\n",
      "                ('estimator',\n",
      "                 GreedyEnsemble(weight=[0.95, 0.05, 0.0, 0.0, 0.0], scores=[1.0, 1.0, 1.0, 1.0, 1.0, 1.0, 1.0, 1.0, 1.0, 1.0, 1.0, 1.0, 1.0, 1.0, 1.0, 1.0, 1.0, 1.0, 1.0, 1.0]))])\n"
     ]
    }
   ],
   "source": [
    "experiment = make_experiment(train_data.copy(), target='target', reward_metric='precision',\n",
    "                             max_trials=5)\n",
    "estimator = experiment.run()\n",
    "print(estimator)"
   ]
  },
  {
   "cell_type": "markdown",
   "id": "e7141fc0",
   "metadata": {},
   "source": [
    "# Set cv policy\n",
    "\n",
    "use `num_folds` to change the number of cross-validated folds, to set `cv=False` to disable  cross-validation."
   ]
  },
  {
   "cell_type": "code",
   "execution_count": 5,
   "id": "c9afdb67",
   "metadata": {
    "tags": []
   },
   "outputs": [],
   "source": [
    "experiment = make_experiment(train_data.copy(), target='target', reward_metric='precision',\n",
    "                             cv=True, num_folds=5)\n",
    "estimator = experiment.run()"
   ]
  },
  {
   "cell_type": "markdown",
   "id": "c6164703",
   "metadata": {},
   "source": [
    "# Select searcher\n",
    "\n",
    "Select searcher with `searcher`, possible values:\n",
    "* one of 'evolution', 'mcts', 'random' \n",
    "* or one of EvolutionSearcher, MCTSSearcher, RandomSearcher, or subclass of hypernets Searcher "
   ]
  },
  {
   "cell_type": "code",
   "execution_count": 6,
   "id": "d8ac67ff",
   "metadata": {},
   "outputs": [],
   "source": [
    "#searcher = ['evolution', 'mcts', 'random']\n",
    "experiment = make_experiment(train_data.copy(), target='target', reward_metric='precision',\n",
    "                             searcher='mcts')\n",
    "estimator = experiment.run()"
   ]
  },
  {
   "cell_type": "markdown",
   "id": "fbf55a43",
   "metadata": {},
   "source": [
    "# Set early_stopping policy\n",
    "\n",
    "Use these settings to set search early stopping policy:\n",
    "* early_stopping_rounds:　int, optional, zero or None to disable it, default is 10.\n",
    "* early_stopping_time_limit: int, optional, zero or None to disable it, default is 3600 seconds.\n",
    "* early_stopping_reward: float, optional, zero or None to disable it, default is None."
   ]
  },
  {
   "cell_type": "code",
   "execution_count": 7,
   "id": "b33533e0",
   "metadata": {},
   "outputs": [],
   "source": [
    "experiment = make_experiment(train_data.copy(), target='target', reward_metric='precision',\n",
    "                             early_stopping_rounds=10,\n",
    "                             early_stopping_time_limit=1800,\n",
    "                             early_stopping_reward=0.96)\n",
    "estimator = experiment.run()"
   ]
  },
  {
   "cell_type": "markdown",
   "id": "a194725b-e2a2-40a4-8926-8116a7eef0b5",
   "metadata": {},
   "source": [
    "# Enable TrialStore\n",
    "\n",
    "Use `trial_store` to set the trial_store location, keep None to disable it."
   ]
  },
  {
   "cell_type": "code",
   "execution_count": 8,
   "id": "45b848af-530b-40f1-8617-03265def4a72",
   "metadata": {},
   "outputs": [],
   "source": [
    "experiment = make_experiment(train_data.copy(), target='target', reward_metric='precision',\n",
    "                             max_trials=5, trial_store='/tmp/trial_store')\n",
    "estimator = experiment.run() "
   ]
  },
  {
   "cell_type": "code",
   "execution_count": 9,
   "id": "f3d28f6e-5026-4418-a171-e84d8e39e028",
   "metadata": {},
   "outputs": [
    {
     "name": "stdout",
     "output_type": "stream",
     "text": [
      "/tmp/trial_store\n",
      "/tmp/trial_store/9207154dea51e7eb80424205f7437164\n",
      "/tmp/trial_store/9207154dea51e7eb80424205f7437164/ee08b2934d47e8a68597c134569b766c\n",
      "/tmp/trial_store/9207154dea51e7eb80424205f7437164/ee08b2934d47e8a68597c134569b766c/1,0,0,0,3,4,0,5,0.pkl\n",
      "/tmp/trial_store/9207154dea51e7eb80424205f7437164/ee08b2934d47e8a68597c134569b766c/1,3,2,3,1,0,2,5,2.pkl\n",
      "/tmp/trial_store/9207154dea51e7eb80424205f7437164/7d235d739432a9a9efb07afb1f061359\n",
      "/tmp/trial_store/9207154dea51e7eb80424205f7437164/7d235d739432a9a9efb07afb1f061359/0,2,1,2,410,0,2,3,2.pkl\n",
      "/tmp/trial_store/9207154dea51e7eb80424205f7437164/7d235d739432a9a9efb07afb1f061359/0,1,0,0,305,0,0,1,4.pkl\n",
      "/tmp/trial_store/9207154dea51e7eb80424205f7437164/7d235d739432a9a9efb07afb1f061359/0,3,2,0,455,3,1,2,2.pkl\n"
     ]
    }
   ],
   "source": [
    "!find /tmp/trial_store"
   ]
  },
  {
   "cell_type": "markdown",
   "id": "4c8cc690",
   "metadata": {},
   "source": [
    "# Set ensemble_size\n",
    "\n",
    "Use `ensemble_size` to set the estimator number in model ensemble, set `0` to disable it."
   ]
  },
  {
   "cell_type": "code",
   "execution_count": 10,
   "id": "440e8717",
   "metadata": {},
   "outputs": [],
   "source": [
    "experiment = make_experiment(train_data.copy(), target='target', reward_metric='precision',\n",
    "                             max_trials=5,ensemble_size=0)\n",
    "estimator = experiment.run()"
   ]
  },
  {
   "cell_type": "markdown",
   "id": "930cd3b2-fddc-4c46-afe6-213fbfadd484",
   "metadata": {},
   "source": [
    "# Set parallelism\n",
    "\n",
    "Use `n_jobs` to set the number of parallel threads or processes."
   ]
  },
  {
   "cell_type": "code",
   "execution_count": 11,
   "id": "a1045bdb-ff01-4438-816f-6d8a45960c62",
   "metadata": {},
   "outputs": [
    {
     "name": "stdout",
     "output_type": "stream",
     "text": [
      "[HyperGBMEstimator(task=binary, reward_metric=precision, cv=True,\n",
      "data_pipeline: DataFrameMapper(df_out=True,\n",
      "                df_out_dtype_transforms=[(ColumnSelector(include:['object']),\n",
      "                                          'int')],\n",
      "                features=[(ColumnSelector(include:['object', 'category', 'bool']),\n",
      "                           Pipeline(steps=[('categorical_imputer_0',\n",
      "                                            SafeSimpleImputer(strategy='constant')),\n",
      "                                           ('categorical_label_encoder_0',\n",
      "                                            MultiLabelEncoder())])),\n",
      "                          (ColumnSelector(include:number, exclude:timedelta),\n",
      "                           Pipeline(steps=[('numeric_imputer_0',\n",
      "                                            FloatOutputImputer(strategy='constant')),\n",
      "                                           ('numeric_pass_through_0',\n",
      "                                            PassThroughEstimator())]))],\n",
      "                input_df=True)\n",
      "gbm_model: CatBoostClassifierWrapper(learning_rate=0.5, depth=10, thread_count=4, silent=True, n_estimators=200, random_state=53697, eval_metric='Precision')\n",
      "), None, None, None, None]\n"
     ]
    }
   ],
   "source": [
    "experiment = make_experiment(train_data.copy(), target='target', reward_metric='precision',\n",
    "                             max_trials=5, n_jobs=4)\n",
    "estimator = experiment.run()\n",
    "print(estimator.steps[-1][-1].estimators)"
   ]
  },
  {
   "cell_type": "markdown",
   "id": "002a36d9-d612-4791-ab83-a4a18e79896f",
   "metadata": {},
   "source": [
    "# Set random_state\n"
   ]
  },
  {
   "cell_type": "code",
   "execution_count": 12,
   "id": "0c7357ce-fe9f-4bb7-9aec-e5c426f784a3",
   "metadata": {},
   "outputs": [],
   "source": [
    "experiment = make_experiment(train_data.copy(), target='target', reward_metric='precision',\n",
    "                             max_trials=5, random_state=8888)\n",
    "estimator = experiment.run()"
   ]
  },
  {
   "cell_type": "markdown",
   "id": "11a4ee7a-762d-48ce-b228-4d9ebbc53394",
   "metadata": {},
   "source": [
    "# Set log_level \n",
    "\n",
    "Use `log_level` to set logging level in th experiment, possible values:\n",
    "- logging.CRITICAL\n",
    "- logging.FATAL\n",
    "- logging.ERROR\n",
    "- logging.WARNING\n",
    "- logging.WARN\n",
    "- logging.INFO\n",
    "- logging.DEBUG"
   ]
  },
  {
   "cell_type": "code",
   "execution_count": 13,
   "id": "f175c148",
   "metadata": {},
   "outputs": [],
   "source": [
    "experiment = make_experiment(train_data.copy(), target='target', reward_metric='precision',\n",
    "                             max_trials=5,log_level='info')\n",
    "estimator = experiment.run()"
   ]
  },
  {
   "cell_type": "code",
   "execution_count": null,
   "id": "14365f2b",
   "metadata": {},
   "outputs": [],
   "source": []
  }
 ],
 "metadata": {
  "kernelspec": {
   "display_name": "Python 3 (ipykernel)",
   "language": "python",
   "name": "python3"
  },
  "language_info": {
   "codemirror_mode": {
    "name": "ipython",
    "version": 3
   },
   "file_extension": ".py",
   "mimetype": "text/x-python",
   "name": "python",
   "nbconvert_exporter": "python",
   "pygments_lexer": "ipython3",
   "version": "3.8.13"
  }
 },
 "nbformat": 4,
 "nbformat_minor": 5
}

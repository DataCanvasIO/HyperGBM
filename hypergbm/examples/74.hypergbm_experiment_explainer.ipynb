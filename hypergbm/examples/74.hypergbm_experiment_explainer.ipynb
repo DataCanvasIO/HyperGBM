{
 "cells": [
  {
   "cell_type": "markdown",
   "id": "3a138a72",
   "metadata": {},
   "source": [
    "### Training a binary classification model using  HyperGBM\n",
    "\n",
    "We use cross validation to split the data and train the model, since that we can choose any model to interpret."
   ]
  },
  {
   "cell_type": "code",
   "execution_count": 1,
   "id": "3dc80ffd",
   "metadata": {},
   "outputs": [
    {
     "name": "stderr",
     "output_type": "stream",
     "text": [
      "<frozen importlib._bootstrap>:219: RuntimeWarning: scipy._lib.messagestream.MessageStream size changed, may indicate binary incompatibility. Expected 56 from C header, got 64 from PyObject\n",
      "/home/wuhf/miniconda3/envs/hypergbm-dev/lib/python3.8/site-packages/xgboost/compat.py:36: FutureWarning: pandas.Int64Index is deprecated and will be removed from pandas in a future version. Use pandas.Index with the appropriate dtype instead.\n",
      "  from pandas import MultiIndex, Int64Index\n"
     ]
    }
   ],
   "source": [
    "from sklearn.model_selection import train_test_split\n",
    "\n",
    "from hypergbm import make_experiment\n",
    "from hypernets.tabular.datasets import dsutils\n",
    "from hypernets.tabular.metrics import evaluate"
   ]
  },
  {
   "cell_type": "code",
   "execution_count": 2,
   "id": "71e4a740",
   "metadata": {
    "scrolled": false
   },
   "outputs": [
    {
     "name": "stdout",
     "output_type": "stream",
     "text": [
      "07-14 15:10:15 I hypergbm.experiment.py 160 - search space options: {'n_estimators': 200, 'verbose': 1}\n",
      "07-14 15:10:15 I hypergbm.experiment.py 182 - you can install experiment notebook widget by command \"pip install hboard-widget\" for better user experience in jupyter notebook\n",
      "07-14 15:10:15 I hypernets.t.toolbox.py 329 - 2 class detected, {'yes', 'no'}, so inferred as a [binary classification] task\n",
      "07-14 15:10:15 I hypernets.e._maker.py 268 - no reward metric specified, use \"accuracy\" for binary task by default.\n",
      "07-14 15:10:15 I hypernets.e.compete.py 1500 - create experiment with ['data_adaption', 'data_clean', 'space_searching', 'final_ensemble'], random_state=1234\n",
      "07-14 15:10:15 I hypernets.e._maker.py 338 - make_experiment with train data:(904, 17), test data:None, eval data:None, target:y, task:binary\n"
     ]
    },
    {
     "data": {
      "text/markdown": [
       "### Input Data"
      ]
     },
     "metadata": {},
     "output_type": "display_data"
    },
    {
     "data": {
      "text/html": [
       "<div>\n",
       "<style scoped>\n",
       "    .dataframe tbody tr th:only-of-type {\n",
       "        vertical-align: middle;\n",
       "    }\n",
       "\n",
       "    .dataframe tbody tr th {\n",
       "        vertical-align: top;\n",
       "    }\n",
       "\n",
       "    .dataframe thead th {\n",
       "        text-align: right;\n",
       "    }\n",
       "</style>\n",
       "<table border=\"1\" class=\"dataframe\">\n",
       "  <thead>\n",
       "    <tr style=\"text-align: right;\">\n",
       "      <th></th>\n",
       "      <th>X_train.shape</th>\n",
       "      <th>y_train.shape</th>\n",
       "      <th>X_eval.shape</th>\n",
       "      <th>y_eval.shape</th>\n",
       "      <th>X_test.shape</th>\n",
       "      <th>Task</th>\n",
       "    </tr>\n",
       "  </thead>\n",
       "  <tbody>\n",
       "    <tr>\n",
       "      <th>0</th>\n",
       "      <td>(904, 17)</td>\n",
       "      <td>(904,)</td>\n",
       "      <td>None</td>\n",
       "      <td>None</td>\n",
       "      <td>None</td>\n",
       "      <td>binary(2)</td>\n",
       "    </tr>\n",
       "  </tbody>\n",
       "</table>\n",
       "</div>"
      ],
      "text/plain": [
       "  X_train.shape y_train.shape X_eval.shape y_eval.shape X_test.shape  \\\n",
       "0     (904, 17)        (904,)         None         None         None   \n",
       "\n",
       "        Task  \n",
       "0  binary(2)  "
      ]
     },
     "metadata": {},
     "output_type": "display_data"
    },
    {
     "data": {
      "image/png": "[encoded data removed]",
      "text/plain": [
       "<Figure size 640x320 with 1 Axes>"
      ]
     },
     "metadata": {
      "needs_background": "light"
     },
     "output_type": "display_data"
    },
    {
     "name": "stdout",
     "output_type": "stream",
     "text": [
      "07-14 15:10:15 I hypernets.e.compete.py 1521 - ToolBox data memory usage: 0.000, free=19.159\n",
      "07-14 15:10:15 I hypernets.e.compete.py 1536 - fit_transform data_adaption with columns: ['id', 'age', 'job', 'marital', 'education', 'default', 'balance', 'housing', 'loan', 'contact', 'day', 'month', 'duration', 'campaign', 'pdays', 'previous', 'poutcome']\n"
     ]
    },
    {
     "data": {
      "text/markdown": [
       "## Data Adaption"
      ]
     },
     "metadata": {},
     "output_type": "display_data"
    },
    {
     "data": {
      "text/markdown": [
       "### Initliazed parameters"
      ]
     },
     "metadata": {},
     "output_type": "display_data"
    },
    {
     "data": {
      "text/html": [
       "<div>\n",
       "<style scoped>\n",
       "    .dataframe tbody tr th:only-of-type {\n",
       "        vertical-align: middle;\n",
       "    }\n",
       "\n",
       "    .dataframe tbody tr th {\n",
       "        vertical-align: top;\n",
       "    }\n",
       "\n",
       "    .dataframe thead th {\n",
       "        text-align: right;\n",
       "    }\n",
       "</style>\n",
       "<table border=\"1\" class=\"dataframe\">\n",
       "  <thead>\n",
       "    <tr style=\"text-align: right;\">\n",
       "      <th></th>\n",
       "      <th>key</th>\n",
       "      <th>value</th>\n",
       "    </tr>\n",
       "  </thead>\n",
       "  <tbody>\n",
       "    <tr>\n",
       "      <th>0</th>\n",
       "      <td>memory_limit</td>\n",
       "      <td>0.05</td>\n",
       "    </tr>\n",
       "    <tr>\n",
       "      <th>1</th>\n",
       "      <td>min_cols</td>\n",
       "      <td>0.3</td>\n",
       "    </tr>\n",
       "    <tr>\n",
       "      <th>2</th>\n",
       "      <td>name</td>\n",
       "      <td>data_adaption</td>\n",
       "    </tr>\n",
       "    <tr>\n",
       "      <th>3</th>\n",
       "      <td>target</td>\n",
       "      <td>None</td>\n",
       "    </tr>\n",
       "  </tbody>\n",
       "</table>\n",
       "</div>"
      ],
      "text/plain": [
       "            key          value\n",
       "0  memory_limit           0.05\n",
       "1      min_cols            0.3\n",
       "2          name  data_adaption\n",
       "3        target           None"
      ]
     },
     "metadata": {},
     "output_type": "display_data"
    },
    {
     "name": "stdout",
     "output_type": "stream",
     "text": [
      "07-14 15:10:15 I hypernets.e.compete.py 272 - data_adaption original data memory usage:0.000, limit: 0.958GB\n"
     ]
    },
    {
     "data": {
      "text/markdown": [
       "### Fitted parameters"
      ]
     },
     "metadata": {},
     "output_type": "display_data"
    },
    {
     "data": {
      "text/html": [
       "<div>\n",
       "<style scoped>\n",
       "    .dataframe tbody tr th:only-of-type {\n",
       "        vertical-align: middle;\n",
       "    }\n",
       "\n",
       "    .dataframe tbody tr th {\n",
       "        vertical-align: top;\n",
       "    }\n",
       "\n",
       "    .dataframe thead th {\n",
       "        text-align: right;\n",
       "    }\n",
       "</style>\n",
       "<table border=\"1\" class=\"dataframe\">\n",
       "  <thead>\n",
       "    <tr style=\"text-align: right;\">\n",
       "      <th></th>\n",
       "      <th>key</th>\n",
       "      <th>value</th>\n",
       "    </tr>\n",
       "  </thead>\n",
       "  <tbody>\n",
       "    <tr>\n",
       "      <th>0</th>\n",
       "      <td>input_features</td>\n",
       "      <td>[id, age, job, marital, education, default, ba...</td>\n",
       "    </tr>\n",
       "    <tr>\n",
       "      <th>1</th>\n",
       "      <td>selected_features</td>\n",
       "      <td>[id, age, job, marital, education, default, ba...</td>\n",
       "    </tr>\n",
       "    <tr>\n",
       "      <th>2</th>\n",
       "      <td>unselected_features</td>\n",
       "      <td>[]</td>\n",
       "    </tr>\n",
       "  </tbody>\n",
       "</table>\n",
       "</div>"
      ],
      "text/plain": [
       "                   key                                              value\n",
       "0       input_features  [id, age, job, marital, education, default, ba...\n",
       "1    selected_features  [id, age, job, marital, education, default, ba...\n",
       "2  unselected_features                                                 []"
      ]
     },
     "metadata": {},
     "output_type": "display_data"
    },
    {
     "data": {
      "text/markdown": [
       "### Elapsed"
      ]
     },
     "metadata": {},
     "output_type": "display_data"
    },
    {
     "data": {
      "text/markdown": [
       "* 0.005 seconds"
      ]
     },
     "metadata": {},
     "output_type": "display_data"
    },
    {
     "name": "stdout",
     "output_type": "stream",
     "text": [
      "07-14 15:10:15 I hypernets.e.compete.py 1521 - ToolBox data memory usage: 0.000, free=19.158\n",
      "07-14 15:10:15 I hypernets.e.compete.py 1536 - fit_transform data_clean with columns: ['id', 'age', 'job', 'marital', 'education', 'default', 'balance', 'housing', 'loan', 'contact', 'day', 'month', 'duration', 'campaign', 'pdays', 'previous', 'poutcome']\n"
     ]
    },
    {
     "data": {
      "text/markdown": [
       "## Data Clean"
      ]
     },
     "metadata": {},
     "output_type": "display_data"
    },
    {
     "data": {
      "text/markdown": [
       "### Initliazed parameters"
      ]
     },
     "metadata": {},
     "output_type": "display_data"
    },
    {
     "data": {
      "text/html": [
       "<div>\n",
       "<style scoped>\n",
       "    .dataframe tbody tr th:only-of-type {\n",
       "        vertical-align: middle;\n",
       "    }\n",
       "\n",
       "    .dataframe tbody tr th {\n",
       "        vertical-align: top;\n",
       "    }\n",
       "\n",
       "    .dataframe thead th {\n",
       "        text-align: right;\n",
       "    }\n",
       "</style>\n",
       "<table border=\"1\" class=\"dataframe\">\n",
       "  <thead>\n",
       "    <tr style=\"text-align: right;\">\n",
       "      <th></th>\n",
       "      <th>key</th>\n",
       "      <th>value</th>\n",
       "    </tr>\n",
       "  </thead>\n",
       "  <tbody>\n",
       "    <tr>\n",
       "      <th>0</th>\n",
       "      <td>cv</td>\n",
       "      <td>True</td>\n",
       "    </tr>\n",
       "    <tr>\n",
       "      <th>1</th>\n",
       "      <td>data_cleaner_args</td>\n",
       "      <td>{'nan_chars': None, 'correct_object_dtype': Tr...</td>\n",
       "    </tr>\n",
       "    <tr>\n",
       "      <th>2</th>\n",
       "      <td>name</td>\n",
       "      <td>data_clean</td>\n",
       "    </tr>\n",
       "    <tr>\n",
       "      <th>3</th>\n",
       "      <td>train_test_split_strategy</td>\n",
       "      <td>None</td>\n",
       "    </tr>\n",
       "  </tbody>\n",
       "</table>\n",
       "</div>"
      ],
      "text/plain": [
       "                         key  \\\n",
       "0                         cv   \n",
       "1          data_cleaner_args   \n",
       "2                       name   \n",
       "3  train_test_split_strategy   \n",
       "\n",
       "                                               value  \n",
       "0                                               True  \n",
       "1  {'nan_chars': None, 'correct_object_dtype': Tr...  \n",
       "2                                         data_clean  \n",
       "3                                               None  "
      ]
     },
     "metadata": {},
     "output_type": "display_data"
    },
    {
     "name": "stdout",
     "output_type": "stream",
     "text": [
      "07-14 15:10:15 I hypernets.e.compete.py 524 - data_clean transform train data\n",
      "07-14 15:10:15 I hypernets.t.data_cleaner.py 233 - replace [inf,-inf] to nan\n",
      "07-14 15:10:15 I hypernets.t.data_cleaner.py 263 - convert object type to str, ['job', 'marital', 'education', 'default', 'housing', 'loan', 'contact', 'month', 'poutcome']\n",
      "07-14 15:10:15 I hypernets.t.data_cleaner.py 326 - drop columns: ['id']\n",
      "07-14 15:10:15 I hypernets.e.compete.py 573 - data_clean keep 16 columns\n"
     ]
    },
    {
     "data": {
      "text/markdown": [
       "### Fitted parameters"
      ]
     },
     "metadata": {},
     "output_type": "display_data"
    },
    {
     "data": {
      "text/html": [
       "<div>\n",
       "<style scoped>\n",
       "    .dataframe tbody tr th:only-of-type {\n",
       "        vertical-align: middle;\n",
       "    }\n",
       "\n",
       "    .dataframe tbody tr th {\n",
       "        vertical-align: top;\n",
       "    }\n",
       "\n",
       "    .dataframe thead th {\n",
       "        text-align: right;\n",
       "    }\n",
       "</style>\n",
       "<table border=\"1\" class=\"dataframe\">\n",
       "  <thead>\n",
       "    <tr style=\"text-align: right;\">\n",
       "      <th></th>\n",
       "      <th>key</th>\n",
       "      <th>value</th>\n",
       "    </tr>\n",
       "  </thead>\n",
       "  <tbody>\n",
       "    <tr>\n",
       "      <th>0</th>\n",
       "      <td>input_features</td>\n",
       "      <td>[id, age, job, marital, education, default, ba...</td>\n",
       "    </tr>\n",
       "    <tr>\n",
       "      <th>1</th>\n",
       "      <td>selected_features</td>\n",
       "      <td>[age, job, marital, education, default, balanc...</td>\n",
       "    </tr>\n",
       "    <tr>\n",
       "      <th>2</th>\n",
       "      <td>unselected_features</td>\n",
       "      <td>[id]</td>\n",
       "    </tr>\n",
       "    <tr>\n",
       "      <th>3</th>\n",
       "      <td>X_train.shape</td>\n",
       "      <td>(904, 16)</td>\n",
       "    </tr>\n",
       "    <tr>\n",
       "      <th>4</th>\n",
       "      <td>y_train.shape</td>\n",
       "      <td>(904,)</td>\n",
       "    </tr>\n",
       "    <tr>\n",
       "      <th>5</th>\n",
       "      <td>X_eval.shape</td>\n",
       "      <td>None</td>\n",
       "    </tr>\n",
       "    <tr>\n",
       "      <th>6</th>\n",
       "      <td>y_eval.shape</td>\n",
       "      <td>None</td>\n",
       "    </tr>\n",
       "    <tr>\n",
       "      <th>7</th>\n",
       "      <td>X_test.shape</td>\n",
       "      <td>None</td>\n",
       "    </tr>\n",
       "    <tr>\n",
       "      <th>8</th>\n",
       "      <td>unselected_reason</td>\n",
       "      <td>{'id': 'idness'}</td>\n",
       "    </tr>\n",
       "    <tr>\n",
       "      <th>9</th>\n",
       "      <td>kept/dropped feature count</td>\n",
       "      <td>16/1</td>\n",
       "    </tr>\n",
       "  </tbody>\n",
       "</table>\n",
       "</div>"
      ],
      "text/plain": [
       "                          key  \\\n",
       "0              input_features   \n",
       "1           selected_features   \n",
       "2         unselected_features   \n",
       "3               X_train.shape   \n",
       "4               y_train.shape   \n",
       "5                X_eval.shape   \n",
       "6                y_eval.shape   \n",
       "7                X_test.shape   \n",
       "8           unselected_reason   \n",
       "9  kept/dropped feature count   \n",
       "\n",
       "                                               value  \n",
       "0  [id, age, job, marital, education, default, ba...  \n",
       "1  [age, job, marital, education, default, balanc...  \n",
       "2                                               [id]  \n",
       "3                                          (904, 16)  \n",
       "4                                             (904,)  \n",
       "5                                               None  \n",
       "6                                               None  \n",
       "7                                               None  \n",
       "8                                   {'id': 'idness'}  \n",
       "9                                               16/1  "
      ]
     },
     "metadata": {},
     "output_type": "display_data"
    },
    {
     "data": {
      "text/markdown": [
       "### Elapsed"
      ]
     },
     "metadata": {},
     "output_type": "display_data"
    },
    {
     "data": {
      "text/markdown": [
       "* 0.021 seconds"
      ]
     },
     "metadata": {},
     "output_type": "display_data"
    },
    {
     "name": "stdout",
     "output_type": "stream",
     "text": [
      "07-14 15:10:16 I hypernets.e.compete.py 1521 - ToolBox data memory usage: 0.000, free=19.157\n",
      "07-14 15:10:16 I hypernets.e.compete.py 1536 - fit_transform space_searching with columns: ['age', 'job', 'marital', 'education', 'default', 'balance', 'housing', 'loan', 'contact', 'day', 'month', 'duration', 'campaign', 'pdays', 'previous', 'poutcome']\n"
     ]
    },
    {
     "data": {
      "text/markdown": [
       "## Space Searching"
      ]
     },
     "metadata": {},
     "output_type": "display_data"
    },
    {
     "data": {
      "text/markdown": [
       "### Initliazed parameters"
      ]
     },
     "metadata": {},
     "output_type": "display_data"
    },
    {
     "data": {
      "text/html": [
       "<div>\n",
       "<style scoped>\n",
       "    .dataframe tbody tr th:only-of-type {\n",
       "        vertical-align: middle;\n",
       "    }\n",
       "\n",
       "    .dataframe tbody tr th {\n",
       "        vertical-align: top;\n",
       "    }\n",
       "\n",
       "    .dataframe thead th {\n",
       "        text-align: right;\n",
       "    }\n",
       "</style>\n",
       "<table border=\"1\" class=\"dataframe\">\n",
       "  <thead>\n",
       "    <tr style=\"text-align: right;\">\n",
       "      <th></th>\n",
       "      <th>key</th>\n",
       "      <th>value</th>\n",
       "    </tr>\n",
       "  </thead>\n",
       "  <tbody>\n",
       "    <tr>\n",
       "      <th>0</th>\n",
       "      <td>cv</td>\n",
       "      <td>True</td>\n",
       "    </tr>\n",
       "    <tr>\n",
       "      <th>1</th>\n",
       "      <td>name</td>\n",
       "      <td>space_searching</td>\n",
       "    </tr>\n",
       "    <tr>\n",
       "      <th>2</th>\n",
       "      <td>num_folds</td>\n",
       "      <td>3</td>\n",
       "    </tr>\n",
       "  </tbody>\n",
       "</table>\n",
       "</div>"
      ],
      "text/plain": [
       "         key            value\n",
       "0         cv             True\n",
       "1       name  space_searching\n",
       "2  num_folds                3"
      ]
     },
     "metadata": {},
     "output_type": "display_data"
    },
    {
     "name": "stdout",
     "output_type": "stream",
     "text": [
      "07-14 15:10:16 I hypernets.c.meta_learner.py 22 - Initialize Meta Learner: dataset_id:b9d71789bdb77d7d6d20dc13d07700b4\n"
     ]
    },
    {
     "data": {
      "text/markdown": [
       "#### Experiment Settings:"
      ]
     },
     "metadata": {},
     "output_type": "display_data"
    },
    {
     "data": {
      "text/plain": [
       "HyperGBM(searcher=EvolutionSearcher(space_fn=GeneralSearchSpaceGenerator(kwargs=None, n_estimators=200, verbose=1), population_size=30, sample_size=10, regularized=True, optimize_direction='max', random_state=RandomState(MT19937) at 0x7F2637CD6C40), callbacks=[EarlyStoppingCallback(max_no_improvement_trials=10, mode='max', time_limit=3599.973243713379), NotebookCallback(), ProgressiveCallback(), FitCrossValidationCallback()], task='binary', discriminator=OncePercentileDiscriminator(percentile=50, history=TrialHistory(direction='max'), optimize_direction='max'))"
      ]
     },
     "metadata": {},
     "output_type": "display_data"
    },
    {
     "data": {
      "text/html": [
       "<div>\n",
       "<style scoped>\n",
       "    .dataframe tbody tr th:only-of-type {\n",
       "        vertical-align: middle;\n",
       "    }\n",
       "\n",
       "    .dataframe tbody tr th {\n",
       "        vertical-align: top;\n",
       "    }\n",
       "\n",
       "    .dataframe thead th {\n",
       "        text-align: right;\n",
       "    }\n",
       "</style>\n",
       "<table border=\"1\" class=\"dataframe\">\n",
       "  <thead>\n",
       "    <tr style=\"text-align: right;\">\n",
       "      <th></th>\n",
       "      <th>X</th>\n",
       "      <th>y</th>\n",
       "      <th>X_eval</th>\n",
       "      <th>y_eval</th>\n",
       "      <th>cv</th>\n",
       "      <th>num_folds</th>\n",
       "      <th>max_trials</th>\n",
       "      <th>fit_kwargs</th>\n",
       "    </tr>\n",
       "  </thead>\n",
       "  <tbody>\n",
       "    <tr>\n",
       "      <th>0</th>\n",
       "      <td>(904, 16)</td>\n",
       "      <td>(904,)</td>\n",
       "      <td>None</td>\n",
       "      <td>None</td>\n",
       "      <td>True</td>\n",
       "      <td>3</td>\n",
       "      <td>3</td>\n",
       "      <td>(verbose, skip_if_file)</td>\n",
       "    </tr>\n",
       "  </tbody>\n",
       "</table>\n",
       "</div>"
      ],
      "text/plain": [
       "           X       y X_eval y_eval    cv  num_folds  max_trials  \\\n",
       "0  (904, 16)  (904,)   None   None  True          3           3   \n",
       "\n",
       "                fit_kwargs  \n",
       "0  (verbose, skip_if_file)  "
      ]
     },
     "metadata": {},
     "output_type": "display_data"
    },
    {
     "data": {
      "text/markdown": [
       "#### Trials Summary:"
      ]
     },
     "metadata": {},
     "output_type": "display_data"
    },
    {
     "data": {
      "text/html": [
       "<div>\n",
       "<style scoped>\n",
       "    .dataframe tbody tr th:only-of-type {\n",
       "        vertical-align: middle;\n",
       "    }\n",
       "\n",
       "    .dataframe tbody tr th {\n",
       "        vertical-align: top;\n",
       "    }\n",
       "\n",
       "    .dataframe thead th {\n",
       "        text-align: right;\n",
       "    }\n",
       "</style>\n",
       "<table border=\"1\" class=\"dataframe\">\n",
       "  <thead>\n",
       "    <tr style=\"text-align: right;\">\n",
       "      <th></th>\n",
       "      <th>Trial No.</th>\n",
       "      <th>Previous reward</th>\n",
       "      <th>Best trial</th>\n",
       "      <th>Best reward</th>\n",
       "      <th>Total elapsed</th>\n",
       "      <th>Valid trials</th>\n",
       "      <th>Max trials</th>\n",
       "    </tr>\n",
       "  </thead>\n",
       "  <tbody>\n",
       "    <tr>\n",
       "      <th>0</th>\n",
       "      <td>3</td>\n",
       "      <td>0.893805</td>\n",
       "      <td>2</td>\n",
       "      <td>0.896018</td>\n",
       "      <td>4.672655</td>\n",
       "      <td>3</td>\n",
       "      <td>3</td>\n",
       "    </tr>\n",
       "  </tbody>\n",
       "</table>\n",
       "</div>"
      ],
      "text/plain": [
       "   Trial No.  Previous reward  Best trial  Best reward  Total elapsed  \\\n",
       "0          3         0.893805           2     0.896018       4.672655   \n",
       "\n",
       "   Valid trials  Max trials  \n",
       "0             3           3  "
      ]
     },
     "metadata": {},
     "output_type": "display_data"
    },
    {
     "data": {
      "text/markdown": [
       "#### Best Trial:"
      ]
     },
     "metadata": {},
     "output_type": "display_data"
    },
    {
     "data": {
      "text/html": [
       "<table border=\"1\" class=\"dataframe\">\n",
       "<thead>\n",
       "<tr style=\"text-align: right;\">\n",
       "  <th>key</th>\n",
       "  <th>value</th>\n",
       "</tr>\n",
       "</thead>\n",
       "<tbody><tr>\n",
       "  <td>signature</td>\n",
       "  <td>54e57250e8fc4f6e738335628f7175d5</td>\n",
       "</tr>\n",
       "<tr>\n",
       "  <td>vectors</td>\n",
       "  <td>[1, 0, 1, 3, 2, 2, 0, 3, 4]</td>\n",
       "</tr><tr>\n",
       "  <td>0-estimator_options.hp_or</td>\n",
       "  <td>1</td>\n",
       "</tr>\n",
       "<tr><tr>\n",
       "  <td>1-numeric_imputer_0.strategy</td>\n",
       "  <td>mean</td>\n",
       "</tr>\n",
       "<tr><tr>\n",
       "  <td>2-numeric_or_scaler_0.hp_or</td>\n",
       "  <td>1</td>\n",
       "</tr>\n",
       "<tr><tr>\n",
       "  <td>3-Module_XGBoostEstimator_1.max_depth</td>\n",
       "  <td>10</td>\n",
       "</tr>\n",
       "<tr><tr>\n",
       "  <td>4-Module_XGBoostEstimator_1.learning_rate</td>\n",
       "  <td>0.5</td>\n",
       "</tr>\n",
       "<tr><tr>\n",
       "  <td>5-Module_XGBoostEstimator_1.gamma</td>\n",
       "  <td>1.5</td>\n",
       "</tr>\n",
       "<tr><tr>\n",
       "  <td>6-Module_XGBoostEstimator_1.min_child_weight</td>\n",
       "  <td>1</td>\n",
       "</tr>\n",
       "<tr><tr>\n",
       "  <td>7-Module_XGBoostEstimator_1.reg_alpha</td>\n",
       "  <td>1</td>\n",
       "</tr>\n",
       "<tr><tr>\n",
       "  <td>8-Module_XGBoostEstimator_1.reg_lambda</td>\n",
       "  <td>1</td>\n",
       "</tr>\n",
       "<tr>  </tbody>\n",
       "</table>\n",
       "</div>"
      ],
      "text/plain": [
       "DAG_HyperSpace_1"
      ]
     },
     "metadata": {},
     "output_type": "display_data"
    },
    {
     "data": {
      "text/markdown": [
       "#### Top trials:"
      ]
     },
     "metadata": {},
     "output_type": "display_data"
    },
    {
     "data": {
      "text/html": [
       "<div>\n",
       "<style scoped>\n",
       "    .dataframe tbody tr th:only-of-type {\n",
       "        vertical-align: middle;\n",
       "    }\n",
       "\n",
       "    .dataframe tbody tr th {\n",
       "        vertical-align: top;\n",
       "    }\n",
       "\n",
       "    .dataframe thead th {\n",
       "        text-align: right;\n",
       "    }\n",
       "</style>\n",
       "<table border=\"1\" class=\"dataframe\">\n",
       "  <thead>\n",
       "    <tr style=\"text-align: right;\">\n",
       "      <th></th>\n",
       "      <th>Trial No.</th>\n",
       "      <th>Reward</th>\n",
       "      <th>Elapsed</th>\n",
       "      <th>Space Vector</th>\n",
       "    </tr>\n",
       "  </thead>\n",
       "  <tbody>\n",
       "    <tr>\n",
       "      <th>0</th>\n",
       "      <td>2</td>\n",
       "      <td>0.896018</td>\n",
       "      <td>1.314810</td>\n",
       "      <td>[1, 0, 1, 3, 2, 2, 0, 3, 4]</td>\n",
       "    </tr>\n",
       "    <tr>\n",
       "      <th>1</th>\n",
       "      <td>3</td>\n",
       "      <td>0.893805</td>\n",
       "      <td>1.352264</td>\n",
       "      <td>[0, 1, 3, 0, 20, 2, 3, 4, 1]</td>\n",
       "    </tr>\n",
       "    <tr>\n",
       "      <th>2</th>\n",
       "      <td>1</td>\n",
       "      <td>0.835177</td>\n",
       "      <td>1.695598</td>\n",
       "      <td>[0, 1, 1, 1, 170, 2, 3, 4, 4]</td>\n",
       "    </tr>\n",
       "  </tbody>\n",
       "</table>\n",
       "</div>"
      ],
      "text/plain": [
       "   Trial No.    Reward   Elapsed                   Space Vector\n",
       "0          2  0.896018  1.314810    [1, 0, 1, 3, 2, 2, 0, 3, 4]\n",
       "1          3  0.893805  1.352264   [0, 1, 3, 0, 20, 2, 3, 4, 1]\n",
       "2          1  0.835177  1.695598  [0, 1, 1, 1, 170, 2, 3, 4, 4]"
      ]
     },
     "metadata": {},
     "output_type": "display_data"
    },
    {
     "data": {
      "application/vnd.jupyter.widget-view+json": {
       "model_id": "",
       "version_major": 2,
       "version_minor": 0
      },
      "text/plain": [
       "search:   0%|          | 0/3 [00:00<?, ?it/s]"
      ]
     },
     "metadata": {},
     "output_type": "display_data"
    },
    {
     "data": {
      "application/vnd.jupyter.widget-view+json": {
       "model_id": "",
       "version_major": 2,
       "version_minor": 0
      },
      "text/plain": [
       "fit_cross_validation:   0%|          | 0/3 [00:00<?, ?it/s]"
      ]
     },
     "metadata": {},
     "output_type": "display_data"
    },
    {
     "name": "stdout",
     "output_type": "stream",
     "text": [
      "07-14 15:10:16 I hypergbm.hyper_gbm.py 246 - transforming the train set, memory free:19.151\n",
      "07-14 15:10:16 I hypergbm.hyper_gbm.py 229 - transform\n",
      "07-14 15:10:16 I hypergbm.hyper_gbm.py 233 - taken 0.0069277286529541016s\n",
      "07-14 15:10:16 I hypergbm.hyper_gbm.py 280 - fold 0 started, memory free:19.151\n",
      "07-14 15:10:16 I hypergbm.hyper_gbm.py 311 - fold 0 fitting estimator\n",
      "07-14 15:10:16 I hypergbm.hyper_gbm.py 320 - fold 0 predict x_val_fold\n",
      "07-14 15:10:16 I hypergbm.hyper_gbm.py 327 - fold 0 get scores\n",
      "07-14 15:10:16 I hypergbm.hyper_gbm.py 338 - fold 0 done with 0.5029354095458984 seconds\n",
      "07-14 15:10:16 I hypergbm.hyper_gbm.py 280 - fold 1 started, memory free:19.145\n",
      "07-14 15:10:17 I hypergbm.hyper_gbm.py 311 - fold 1 fitting estimator\n",
      "07-14 15:10:17 I hypergbm.hyper_gbm.py 320 - fold 1 predict x_val_fold\n",
      "07-14 15:10:17 I hypergbm.hyper_gbm.py 327 - fold 1 get scores\n",
      "07-14 15:10:17 I hypergbm.hyper_gbm.py 338 - fold 1 done with 0.4685633182525635 seconds\n",
      "07-14 15:10:17 I hypergbm.hyper_gbm.py 280 - fold 2 started, memory free:19.140\n",
      "07-14 15:10:17 I hypergbm.hyper_gbm.py 311 - fold 2 fitting estimator\n",
      "07-14 15:10:17 I hypergbm.hyper_gbm.py 320 - fold 2 predict x_val_fold\n",
      "07-14 15:10:17 I hypergbm.hyper_gbm.py 327 - fold 2 get scores\n",
      "07-14 15:10:17 I hypergbm.hyper_gbm.py 338 - fold 2 done with 0.5089201927185059 seconds\n",
      "07-14 15:10:17 I hypergbm.hyper_gbm.py 342 - oof_scores:[{'accuracy': 0.8940397350993378}, {'accuracy': 0.8903654485049833}, {'accuracy': 0.7209302325581395}]\n",
      "07-14 15:10:17 I hypergbm.hyper_gbm.py 345 - get total scores\n",
      "07-14 15:10:17 I hypergbm.hyper_gbm.py 349 - taken 1.6545095443725586s\n",
      "07-14 15:10:17 I hypernets.d.in_process_dispatcher.py 78 - Trial 1 done, reward: 0.8351769911504425, best_trial_no:1, best_reward:0.8351769911504425\n",
      "\n",
      "07-14 15:10:18 I hypergbm.hyper_gbm.py 246 - transforming the train set, memory free:19.138\n",
      "07-14 15:10:18 I hypergbm.hyper_gbm.py 229 - transform\n",
      "07-14 15:10:18 I hypergbm.hyper_gbm.py 233 - taken 0.008147478103637695s\n",
      "07-14 15:10:18 I hypergbm.hyper_gbm.py 280 - fold 0 started, memory free:19.138\n",
      "07-14 15:10:18 I hypergbm.hyper_gbm.py 311 - fold 0 fitting estimator\n",
      "07-14 15:10:18 I hypergbm.hyper_gbm.py 320 - fold 0 predict x_val_fold\n",
      "07-14 15:10:18 I hypergbm.hyper_gbm.py 327 - fold 0 get scores\n",
      "07-14 15:10:18 I hypergbm.hyper_gbm.py 338 - fold 0 done with 0.36721229553222656 seconds\n",
      "07-14 15:10:18 I hypergbm.hyper_gbm.py 280 - fold 1 started, memory free:19.138\n",
      "07-14 15:10:18 I hypergbm.hyper_gbm.py 311 - fold 1 fitting estimator\n",
      "07-14 15:10:18 I hypergbm.hyper_gbm.py 320 - fold 1 predict x_val_fold\n",
      "07-14 15:10:18 I hypergbm.hyper_gbm.py 327 - fold 1 get scores\n",
      "07-14 15:10:18 I hypergbm.hyper_gbm.py 338 - fold 1 done with 0.35199713706970215 seconds\n",
      "07-14 15:10:18 I hypergbm.hyper_gbm.py 280 - fold 2 started, memory free:19.138\n",
      "07-14 15:10:19 I hypergbm.hyper_gbm.py 311 - fold 2 fitting estimator\n",
      "07-14 15:10:19 I hypergbm.hyper_gbm.py 320 - fold 2 predict x_val_fold\n",
      "07-14 15:10:19 I hypergbm.hyper_gbm.py 327 - fold 2 get scores\n",
      "07-14 15:10:19 I hypergbm.hyper_gbm.py 338 - fold 2 done with 0.41386985778808594 seconds\n",
      "07-14 15:10:19 I hypergbm.hyper_gbm.py 342 - oof_scores:[{'accuracy': 0.8973509933774835}, {'accuracy': 0.893687707641196}, {'accuracy': 0.8970099667774086}]\n",
      "07-14 15:10:19 I hypergbm.hyper_gbm.py 345 - get total scores\n",
      "07-14 15:10:19 I hypergbm.hyper_gbm.py 349 - taken 1.301607608795166s\n",
      "07-14 15:10:19 I hypernets.d.in_process_dispatcher.py 78 - Trial 2 done, reward: 0.8960176991150443, best_trial_no:2, best_reward:0.8960176991150443\n",
      "\n",
      "07-14 15:10:19 I hypergbm.hyper_gbm.py 246 - transforming the train set, memory free:19.130\n",
      "07-14 15:10:19 I hypergbm.hyper_gbm.py 229 - transform\n",
      "07-14 15:10:19 I hypergbm.hyper_gbm.py 233 - taken 0.0067479610443115234s\n",
      "07-14 15:10:19 I hypergbm.hyper_gbm.py 280 - fold 0 started, memory free:19.130\n",
      "07-14 15:10:19 I hypergbm.hyper_gbm.py 311 - fold 0 fitting estimator\n",
      "07-14 15:10:19 I hypergbm.hyper_gbm.py 320 - fold 0 predict x_val_fold\n",
      "07-14 15:10:19 I hypergbm.hyper_gbm.py 327 - fold 0 get scores\n",
      "07-14 15:10:19 I hypergbm.hyper_gbm.py 338 - fold 0 done with 0.3897669315338135 seconds\n",
      "07-14 15:10:19 I hypergbm.hyper_gbm.py 280 - fold 1 started, memory free:19.131\n",
      "07-14 15:10:20 I hypergbm.hyper_gbm.py 311 - fold 1 fitting estimator\n",
      "07-14 15:10:20 I hypergbm.hyper_gbm.py 320 - fold 1 predict x_val_fold\n",
      "07-14 15:10:20 I hypergbm.hyper_gbm.py 327 - fold 1 get scores\n",
      "07-14 15:10:20 I hypergbm.hyper_gbm.py 338 - fold 1 done with 0.38307619094848633 seconds\n",
      "07-14 15:10:20 I hypergbm.hyper_gbm.py 280 - fold 2 started, memory free:19.130\n",
      "07-14 15:10:20 I hypergbm.hyper_gbm.py 311 - fold 2 fitting estimator\n",
      "07-14 15:10:20 I hypergbm.hyper_gbm.py 320 - fold 2 predict x_val_fold\n",
      "07-14 15:10:20 I hypergbm.hyper_gbm.py 327 - fold 2 get scores\n",
      "07-14 15:10:20 I hypergbm.hyper_gbm.py 338 - fold 2 done with 0.3659675121307373 seconds\n",
      "07-14 15:10:20 I hypergbm.hyper_gbm.py 342 - oof_scores:[{'accuracy': 0.8940397350993378}, {'accuracy': 0.893687707641196}, {'accuracy': 0.893687707641196}]\n",
      "07-14 15:10:20 I hypergbm.hyper_gbm.py 345 - get total scores\n",
      "07-14 15:10:20 I hypergbm.hyper_gbm.py 349 - taken 1.3089990615844727s\n",
      "07-14 15:10:20 I hypernets.d.in_process_dispatcher.py 78 - Trial 3 done, reward: 0.8938053097345132, best_trial_no:2, best_reward:0.8960176991150443\n",
      "\n",
      "07-14 15:10:20 I hypernets.e.compete.py 1010 - space_searching best_reward: 0.8960176991150443\n"
     ]
    },
    {
     "data": {
      "text/markdown": [
       "### Fitted parameters"
      ]
     },
     "metadata": {},
     "output_type": "display_data"
    },
    {
     "data": {
      "text/html": [
       "<div>\n",
       "<style scoped>\n",
       "    .dataframe tbody tr th:only-of-type {\n",
       "        vertical-align: middle;\n",
       "    }\n",
       "\n",
       "    .dataframe tbody tr th {\n",
       "        vertical-align: top;\n",
       "    }\n",
       "\n",
       "    .dataframe thead th {\n",
       "        text-align: right;\n",
       "    }\n",
       "</style>\n",
       "<table border=\"1\" class=\"dataframe\">\n",
       "  <thead>\n",
       "    <tr style=\"text-align: right;\">\n",
       "      <th></th>\n",
       "      <th>key</th>\n",
       "      <th>value</th>\n",
       "    </tr>\n",
       "  </thead>\n",
       "  <tbody>\n",
       "    <tr>\n",
       "      <th>0</th>\n",
       "      <td>input_features</td>\n",
       "      <td>[age, job, marital, education, default, balanc...</td>\n",
       "    </tr>\n",
       "    <tr>\n",
       "      <th>1</th>\n",
       "      <td>best_reward</td>\n",
       "      <td>0.896018</td>\n",
       "    </tr>\n",
       "    <tr>\n",
       "      <th>2</th>\n",
       "      <td>history</td>\n",
       "      <td>TrialHistory(direction='max', size=3, succeede...</td>\n",
       "    </tr>\n",
       "  </tbody>\n",
       "</table>\n",
       "</div>"
      ],
      "text/plain": [
       "              key                                              value\n",
       "0  input_features  [age, job, marital, education, default, balanc...\n",
       "1     best_reward                                           0.896018\n",
       "2         history  TrialHistory(direction='max', size=3, succeede..."
      ]
     },
     "metadata": {},
     "output_type": "display_data"
    },
    {
     "data": {
      "text/markdown": [
       "### Elapsed"
      ]
     },
     "metadata": {},
     "output_type": "display_data"
    },
    {
     "data": {
      "text/markdown": [
       "* 4.692 seconds"
      ]
     },
     "metadata": {},
     "output_type": "display_data"
    },
    {
     "name": "stdout",
     "output_type": "stream",
     "text": [
      "07-14 15:10:20 I hypernets.e.compete.py 1521 - ToolBox data memory usage: 0.000, free=19.131\n",
      "07-14 15:10:20 I hypernets.e.compete.py 1536 - fit_transform final_ensemble with columns: ['age', 'job', 'marital', 'education', 'default', 'balance', 'housing', 'loan', 'contact', 'day', 'month', 'duration', 'campaign', 'pdays', 'previous', 'poutcome']\n"
     ]
    },
    {
     "data": {
      "text/markdown": [
       "## Final Ensemble"
      ]
     },
     "metadata": {},
     "output_type": "display_data"
    },
    {
     "data": {
      "text/markdown": [
       "### Initliazed parameters"
      ]
     },
     "metadata": {},
     "output_type": "display_data"
    },
    {
     "data": {
      "text/html": [
       "<div>\n",
       "<style scoped>\n",
       "    .dataframe tbody tr th:only-of-type {\n",
       "        vertical-align: middle;\n",
       "    }\n",
       "\n",
       "    .dataframe tbody tr th {\n",
       "        vertical-align: top;\n",
       "    }\n",
       "\n",
       "    .dataframe thead th {\n",
       "        text-align: right;\n",
       "    }\n",
       "</style>\n",
       "<table border=\"1\" class=\"dataframe\">\n",
       "  <thead>\n",
       "    <tr style=\"text-align: right;\">\n",
       "      <th></th>\n",
       "      <th>key</th>\n",
       "      <th>value</th>\n",
       "    </tr>\n",
       "  </thead>\n",
       "  <tbody>\n",
       "    <tr>\n",
       "      <th>0</th>\n",
       "      <td>ensemble_size</td>\n",
       "      <td>20</td>\n",
       "    </tr>\n",
       "    <tr>\n",
       "      <th>1</th>\n",
       "      <td>name</td>\n",
       "      <td>final_ensemble</td>\n",
       "    </tr>\n",
       "    <tr>\n",
       "      <th>2</th>\n",
       "      <td>scorer</td>\n",
       "      <td>make_scorer(accuracy_score)</td>\n",
       "    </tr>\n",
       "  </tbody>\n",
       "</table>\n",
       "</div>"
      ],
      "text/plain": [
       "             key                        value\n",
       "0  ensemble_size                           20\n",
       "1           name               final_ensemble\n",
       "2         scorer  make_scorer(accuracy_score)"
      ]
     },
     "metadata": {},
     "output_type": "display_data"
    },
    {
     "name": "stdout",
     "output_type": "stream",
     "text": [
      "07-14 15:10:20 I hypernets.t.e.base_ensemble.py 72 - get predictions, need_fit=False\n",
      "07-14 15:10:20 I hypernets.t.e.base_ensemble.py 75 - fit_predictions\n",
      "07-14 15:10:23 I hypernets.e.compete.py 1227 - built estimator: GreedyEnsemble(weight=[1.0, 0.0, 0.0], scores=[0.9413716814159292, 0.9413716814159292, 0.9413716814159292, 0.9413716814159292, 0.9413716814159292, 0.9413716814159292, 0.9413716814159292, 0.9413716814159292, 0.9413716814159292, 0.9413716814159292, 0.9413716814159292, 0.9413716814159292, 0.9413716814159292, 0.9413716814159292, 0.9413716814159292, 0.9413716814159292, 0.9413716814159292, 0.9413716814159292, 0.9413716814159292, 0.9413716814159292])\n"
     ]
    },
    {
     "data": {
      "text/markdown": [
       "### Fitted parameters"
      ]
     },
     "metadata": {},
     "output_type": "display_data"
    },
    {
     "data": {
      "text/html": [
       "<div>\n",
       "<style scoped>\n",
       "    .dataframe tbody tr th:only-of-type {\n",
       "        vertical-align: middle;\n",
       "    }\n",
       "\n",
       "    .dataframe tbody tr th {\n",
       "        vertical-align: top;\n",
       "    }\n",
       "\n",
       "    .dataframe thead th {\n",
       "        text-align: right;\n",
       "    }\n",
       "</style>\n",
       "<table border=\"1\" class=\"dataframe\">\n",
       "  <thead>\n",
       "    <tr style=\"text-align: right;\">\n",
       "      <th></th>\n",
       "      <th>0</th>\n",
       "      <th>1</th>\n",
       "    </tr>\n",
       "  </thead>\n",
       "  <tbody>\n",
       "    <tr>\n",
       "      <th>0</th>\n",
       "      <td>weights</td>\n",
       "      <td>[1.0, 0.0, 0.0]</td>\n",
       "    </tr>\n",
       "    <tr>\n",
       "      <th>1</th>\n",
       "      <td>scores</td>\n",
       "      <td>[0.9413716814159292, 0.9413716814159292, 0.941...</td>\n",
       "    </tr>\n",
       "    <tr>\n",
       "      <th>2</th>\n",
       "      <td>best_stack</td>\n",
       "      <td>[0, 0, 0, 0, 0, 0, 0, 0, 0, 0, 0, 0, 0, 0, 0, ...</td>\n",
       "    </tr>\n",
       "    <tr>\n",
       "      <th>3</th>\n",
       "      <td>hits</td>\n",
       "      <td>{0: 20}</td>\n",
       "    </tr>\n",
       "    <tr>\n",
       "      <th>4</th>\n",
       "      <td>ensemble_size</td>\n",
       "      <td>20</td>\n",
       "    </tr>\n",
       "  </tbody>\n",
       "</table>\n",
       "</div>"
      ],
      "text/plain": [
       "GreedyEnsemble(weight=[1.0, 0.0, 0.0], scores=[0.9413716814159292, 0.9413716814159292, 0.9413716814159292, 0.9413716814159292, 0.9413716814159292, 0.9413716814159292, 0.9413716814159292, 0.9413716814159292, 0.9413716814159292, 0.9413716814159292, 0.9413716814159292, 0.9413716814159292, 0.9413716814159292, 0.9413716814159292, 0.9413716814159292, 0.9413716814159292, 0.9413716814159292, 0.9413716814159292, 0.9413716814159292, 0.9413716814159292])"
      ]
     },
     "metadata": {},
     "output_type": "display_data"
    },
    {
     "data": {
      "text/markdown": [
       "### Elapsed"
      ]
     },
     "metadata": {},
     "output_type": "display_data"
    },
    {
     "data": {
      "text/markdown": [
       "* 2.490 seconds"
      ]
     },
     "metadata": {},
     "output_type": "display_data"
    },
    {
     "name": "stdout",
     "output_type": "stream",
     "text": [
      "07-14 15:10:23 I hypernets.e.compete.py 1610 - trained experiment pipeline: ['data_clean', 'estimator']\n"
     ]
    },
    {
     "data": {
      "text/html": [
       "<style>#sk-container-id-1 {color: black;background-color: white;}#sk-container-id-1 pre{padding: 0;}#sk-container-id-1 div.sk-toggleable {background-color: white;}#sk-container-id-1 label.sk-toggleable__label {cursor: pointer;display: block;width: 100%;margin-bottom: 0;padding: 0.3em;box-sizing: border-box;text-align: center;}#sk-container-id-1 label.sk-toggleable__label-arrow:before {content: \"▸\";float: left;margin-right: 0.25em;color: #696969;}#sk-container-id-1 label.sk-toggleable__label-arrow:hover:before {color: black;}#sk-container-id-1 div.sk-estimator:hover label.sk-toggleable__label-arrow:before {color: black;}#sk-container-id-1 div.sk-toggleable__content {max-height: 0;max-width: 0;overflow: hidden;text-align: left;background-color: #f0f8ff;}#sk-container-id-1 div.sk-toggleable__content pre {margin: 0.2em;color: black;border-radius: 0.25em;background-color: #f0f8ff;}#sk-container-id-1 input.sk-toggleable__control:checked~div.sk-toggleable__content {max-height: 200px;max-width: 100%;overflow: auto;}#sk-container-id-1 input.sk-toggleable__control:checked~label.sk-toggleable__label-arrow:before {content: \"▾\";}#sk-container-id-1 div.sk-estimator input.sk-toggleable__control:checked~label.sk-toggleable__label {background-color: #d4ebff;}#sk-container-id-1 div.sk-label input.sk-toggleable__control:checked~label.sk-toggleable__label {background-color: #d4ebff;}#sk-container-id-1 input.sk-hidden--visually {border: 0;clip: rect(1px 1px 1px 1px);clip: rect(1px, 1px, 1px, 1px);height: 1px;margin: -1px;overflow: hidden;padding: 0;position: absolute;width: 1px;}#sk-container-id-1 div.sk-estimator {font-family: monospace;background-color: #f0f8ff;border: 1px dotted black;border-radius: 0.25em;box-sizing: border-box;margin-bottom: 0.5em;}#sk-container-id-1 div.sk-estimator:hover {background-color: #d4ebff;}#sk-container-id-1 div.sk-parallel-item::after {content: \"\";width: 100%;border-bottom: 1px solid gray;flex-grow: 1;}#sk-container-id-1 div.sk-label:hover label.sk-toggleable__label {background-color: #d4ebff;}#sk-container-id-1 div.sk-serial::before {content: \"\";position: absolute;border-left: 1px solid gray;box-sizing: border-box;top: 0;bottom: 0;left: 50%;z-index: 0;}#sk-container-id-1 div.sk-serial {display: flex;flex-direction: column;align-items: center;background-color: white;padding-right: 0.2em;padding-left: 0.2em;position: relative;}#sk-container-id-1 div.sk-item {position: relative;z-index: 1;}#sk-container-id-1 div.sk-parallel {display: flex;align-items: stretch;justify-content: center;background-color: white;position: relative;}#sk-container-id-1 div.sk-item::before, #sk-container-id-1 div.sk-parallel-item::before {content: \"\";position: absolute;border-left: 1px solid gray;box-sizing: border-box;top: 0;bottom: 0;left: 50%;z-index: -1;}#sk-container-id-1 div.sk-parallel-item {display: flex;flex-direction: column;z-index: 1;position: relative;background-color: white;}#sk-container-id-1 div.sk-parallel-item:first-child::after {align-self: flex-end;width: 50%;}#sk-container-id-1 div.sk-parallel-item:last-child::after {align-self: flex-start;width: 50%;}#sk-container-id-1 div.sk-parallel-item:only-child::after {width: 0;}#sk-container-id-1 div.sk-dashed-wrapped {border: 1px dashed gray;margin: 0 0.4em 0.5em 0.4em;box-sizing: border-box;padding-bottom: 0.4em;background-color: white;}#sk-container-id-1 div.sk-label label {font-family: monospace;font-weight: bold;display: inline-block;line-height: 1.2em;}#sk-container-id-1 div.sk-label-container {text-align: center;}#sk-container-id-1 div.sk-container {/* jupyter's `normalize.less` sets `[hidden] { display: none; }` but bootstrap.min.css set `[hidden] { display: none !important; }` so we also need the `!important` here to be able to override the default hidden behavior on the sphinx rendered scikit-learn.org. See: https://github.com/scikit-learn/scikit-learn/issues/21755 */display: inline-block !important;position: relative;}#sk-container-id-1 div.sk-text-repr-fallback {display: none;}</style><div id=\"sk-container-id-1\" class=\"sk-top-container\"><div class=\"sk-text-repr-fallback\"><pre>Pipeline(steps=[(&#x27;data_clean&#x27;,\n",
       "                 DataCleanStep(cv=True,\n",
       "                               data_cleaner_args={&#x27;correct_object_dtype&#x27;: True,\n",
       "                                                  &#x27;drop_columns&#x27;: None,\n",
       "                                                  &#x27;drop_constant_columns&#x27;: True,\n",
       "                                                  &#x27;drop_duplicated_columns&#x27;: False,\n",
       "                                                  &#x27;drop_idness_columns&#x27;: True,\n",
       "                                                  &#x27;drop_label_nan_rows&#x27;: True,\n",
       "                                                  &#x27;int_convert_to&#x27;: &#x27;float&#x27;,\n",
       "                                                  &#x27;nan_chars&#x27;: None,\n",
       "                                                  &#x27;reduce_mem_usage&#x27;: False,\n",
       "                                                  &#x27;reserve_columns&#x27;: None},\n",
       "                               name=&#x27;data_clean&#x27;)),\n",
       "                (&#x27;est...\n",
       "                 GreedyEnsemble(weight=[1.0, 0.0, 0.0], scores=[0.9413716814159292, 0.9413716814159292, 0.9413716814159292, 0.9413716814159292, 0.9413716814159292, 0.9413716814159292, 0.9413716814159292, 0.9413716814159292, 0.9413716814159292, 0.9413716814159292, 0.9413716814159292, 0.9413716814159292, 0.9413716814159292, 0.9413716814159292, 0.9413716814159292, 0.9413716814159292, 0.9413716814159292, 0.9413716814159292, 0.9413716814159292, 0.9413716814159292]))])</pre><b>In a Jupyter environment, please rerun this cell to show the HTML representation or trust the notebook. <br />On GitHub, the HTML representation is unable to render, please try loading this page with nbviewer.org.</b></div><div class=\"sk-container\" hidden><div class=\"sk-item sk-dashed-wrapped\"><div class=\"sk-label-container\"><div class=\"sk-label sk-toggleable\"><input class=\"sk-toggleable__control sk-hidden--visually\" id=\"sk-estimator-id-1\" type=\"checkbox\" ><label for=\"sk-estimator-id-1\" class=\"sk-toggleable__label sk-toggleable__label-arrow\">Pipeline</label><div class=\"sk-toggleable__content\"><pre>Pipeline(steps=[(&#x27;data_clean&#x27;,\n",
       "                 DataCleanStep(cv=True,\n",
       "                               data_cleaner_args={&#x27;correct_object_dtype&#x27;: True,\n",
       "                                                  &#x27;drop_columns&#x27;: None,\n",
       "                                                  &#x27;drop_constant_columns&#x27;: True,\n",
       "                                                  &#x27;drop_duplicated_columns&#x27;: False,\n",
       "                                                  &#x27;drop_idness_columns&#x27;: True,\n",
       "                                                  &#x27;drop_label_nan_rows&#x27;: True,\n",
       "                                                  &#x27;int_convert_to&#x27;: &#x27;float&#x27;,\n",
       "                                                  &#x27;nan_chars&#x27;: None,\n",
       "                                                  &#x27;reduce_mem_usage&#x27;: False,\n",
       "                                                  &#x27;reserve_columns&#x27;: None},\n",
       "                               name=&#x27;data_clean&#x27;)),\n",
       "                (&#x27;est...\n",
       "                 GreedyEnsemble(weight=[1.0, 0.0, 0.0], scores=[0.9413716814159292, 0.9413716814159292, 0.9413716814159292, 0.9413716814159292, 0.9413716814159292, 0.9413716814159292, 0.9413716814159292, 0.9413716814159292, 0.9413716814159292, 0.9413716814159292, 0.9413716814159292, 0.9413716814159292, 0.9413716814159292, 0.9413716814159292, 0.9413716814159292, 0.9413716814159292, 0.9413716814159292, 0.9413716814159292, 0.9413716814159292, 0.9413716814159292]))])</pre></div></div></div><div class=\"sk-serial\"><div class=\"sk-item\"><div class=\"sk-estimator sk-toggleable\"><input class=\"sk-toggleable__control sk-hidden--visually\" id=\"sk-estimator-id-2\" type=\"checkbox\" ><label for=\"sk-estimator-id-2\" class=\"sk-toggleable__label sk-toggleable__label-arrow\">DataCleanStep</label><div class=\"sk-toggleable__content\"><pre>DataCleanStep(cv=True,\n",
       "              data_cleaner_args={&#x27;correct_object_dtype&#x27;: True,\n",
       "                                 &#x27;drop_columns&#x27;: None,\n",
       "                                 &#x27;drop_constant_columns&#x27;: True,\n",
       "                                 &#x27;drop_duplicated_columns&#x27;: False,\n",
       "                                 &#x27;drop_idness_columns&#x27;: True,\n",
       "                                 &#x27;drop_label_nan_rows&#x27;: True,\n",
       "                                 &#x27;int_convert_to&#x27;: &#x27;float&#x27;, &#x27;nan_chars&#x27;: None,\n",
       "                                 &#x27;reduce_mem_usage&#x27;: False,\n",
       "                                 &#x27;reserve_columns&#x27;: None},\n",
       "              name=&#x27;data_clean&#x27;)</pre></div></div></div><div class=\"sk-item\"><div class=\"sk-estimator sk-toggleable\"><input class=\"sk-toggleable__control sk-hidden--visually\" id=\"sk-estimator-id-3\" type=\"checkbox\" ><label for=\"sk-estimator-id-3\" class=\"sk-toggleable__label sk-toggleable__label-arrow\">GreedyEnsemble</label><div class=\"sk-toggleable__content\"><pre>GreedyEnsemble(weight=[1.0, 0.0, 0.0], scores=[0.9413716814159292, 0.9413716814159292, 0.9413716814159292, 0.9413716814159292, 0.9413716814159292, 0.9413716814159292, 0.9413716814159292, 0.9413716814159292, 0.9413716814159292, 0.9413716814159292, 0.9413716814159292, 0.9413716814159292, 0.9413716814159292, 0.9413716814159292, 0.9413716814159292, 0.9413716814159292, 0.9413716814159292, 0.9413716814159292, 0.9413716814159292, 0.9413716814159292])</pre></div></div></div></div></div></div></div>"
      ],
      "text/plain": [
       "Pipeline(steps=[('data_clean',\n",
       "                 DataCleanStep(cv=True,\n",
       "                               data_cleaner_args={'correct_object_dtype': True,\n",
       "                                                  'drop_columns': None,\n",
       "                                                  'drop_constant_columns': True,\n",
       "                                                  'drop_duplicated_columns': False,\n",
       "                                                  'drop_idness_columns': True,\n",
       "                                                  'drop_label_nan_rows': True,\n",
       "                                                  'int_convert_to': 'float',\n",
       "                                                  'nan_chars': None,\n",
       "                                                  'reduce_mem_usage': False,\n",
       "                                                  'reserve_columns': None},\n",
       "                               name='data_clean')),\n",
       "                ('est...\n",
       "                 GreedyEnsemble(weight=[1.0, 0.0, 0.0], scores=[0.9413716814159292, 0.9413716814159292, 0.9413716814159292, 0.9413716814159292, 0.9413716814159292, 0.9413716814159292, 0.9413716814159292, 0.9413716814159292, 0.9413716814159292, 0.9413716814159292, 0.9413716814159292, 0.9413716814159292, 0.9413716814159292, 0.9413716814159292, 0.9413716814159292, 0.9413716814159292, 0.9413716814159292, 0.9413716814159292, 0.9413716814159292, 0.9413716814159292]))])"
      ]
     },
     "execution_count": 2,
     "metadata": {},
     "output_type": "execute_result"
    }
   ],
   "source": [
    "df = dsutils.load_bank()\n",
    "df_train, df_test = train_test_split(df, test_size=0.8, random_state=42)\n",
    "\n",
    "experiment = make_experiment(df_train, target='y',\n",
    "                             max_trials=3,\n",
    "                             log_level='info',\n",
    "                             verbose=1,\n",
    "                             random_state=1234,\n",
    "                             skip_if_file='/tmp/skip.tag')\n",
    "\n",
    "pipeline = experiment.run()\n",
    "pipeline"
   ]
  },
  {
   "cell_type": "markdown",
   "id": "9f5627a8",
   "metadata": {},
   "source": [
    "查看集成模型"
   ]
  },
  {
   "cell_type": "markdown",
   "id": "19c5cbc8",
   "metadata": {},
   "source": [
    "### Calculate shap value\n",
    "选择第一个模型来解释"
   ]
  },
  {
   "cell_type": "code",
   "execution_count": 8,
   "id": "125c80ea",
   "metadata": {},
   "outputs": [
    {
     "data": {
      "text/plain": [
       "[HyperGBMEstimator(task=binary, reward_metric=accuracy, cv=True,\n",
       " data_pipeline: DataFrameMapper(df_out=True,\n",
       "                 df_out_dtype_transforms=[(ColumnSelector(include:['object']),\n",
       "                                           'int')],\n",
       "                 features=[(ColumnSelector(include:['object', 'category', 'bool']),\n",
       "                            Pipeline(steps=[('categorical_imputer_0',\n",
       "                                             SafeSimpleImputer(strategy='constant')),\n",
       "                                            ('categorical_label_encoder_0',\n",
       "                                             MultiLabelEncoder())])),\n",
       "                           (ColumnSelector(include:number, exclude:timedelta),\n",
       "                            Pipeline(steps=[('numeric_imputer_0',\n",
       "                                             FloatOutputImputer()),\n",
       "                                            ('numeric_log_standard_scaler_0',\n",
       "                                             LogStandardScaler())]))],\n",
       "                 input_df=True)\n",
       " gbm_model: XGBClassifierWrapper(base_score=0.5, booster='gbtree', colsample_bylevel=1,\n",
       "                      colsample_bynode=1, colsample_bytree=1,\n",
       "                      enable_categorical=False, gamma=1.5, gpu_id=-1,\n",
       "                      importance_type=None, interaction_constraints='',\n",
       "                      learning_rate=0.5, max_delta_step=0, max_depth=10,\n",
       "                      min_child_weight=1, missing=nan, monotone_constraints='()',\n",
       "                      n_estimators=200, n_jobs=16, num_parallel_tree=1,\n",
       "                      predictor='auto', random_state=14192, reg_alpha=1,\n",
       "                      reg_lambda=1, scale_pos_weight=1, subsample=1,\n",
       "                      tree_method='exact', use_label_encoder=False,\n",
       "                      validate_parameters=1, verbosity=0)\n",
       " ),\n",
       " None,\n",
       " None]"
      ]
     },
     "execution_count": 8,
     "metadata": {},
     "output_type": "execute_result"
    }
   ],
   "source": [
    "estimators = pipeline.steps[-1][1].estimators\n",
    "estimators"
   ]
  },
  {
   "cell_type": "code",
   "execution_count": 11,
   "id": "a7131dd0",
   "metadata": {},
   "outputs": [
    {
     "data": {
      "text/plain": [
       "[HyperGBMEstimator(task=binary, reward_metric=accuracy, cv=True,\n",
       " data_pipeline: DataFrameMapper(df_out=True,\n",
       "                 df_out_dtype_transforms=[(ColumnSelector(include:['object']),\n",
       "                                           'int')],\n",
       "                 features=[(ColumnSelector(include:['object', 'category', 'bool']),\n",
       "                            Pipeline(steps=[('categorical_imputer_0',\n",
       "                                             SafeSimpleImputer(strategy='constant')),\n",
       "                                            ('categorical_label_encoder_0',\n",
       "                                             MultiLabelEncoder())])),\n",
       "                           (ColumnSelector(include:number, exclude:timedelta),\n",
       "                            Pipeline(steps=[('numeric_imputer_0',\n",
       "                                             FloatOutputImputer()),\n",
       "                                            ('numeric_log_standard_scaler_0',\n",
       "                                             LogStandardScaler())]))],\n",
       "                 input_df=True)\n",
       " gbm_model: XGBClassifierWrapper(base_score=0.5, booster='gbtree', colsample_bylevel=1,\n",
       "                      colsample_bynode=1, colsample_bytree=1,\n",
       "                      enable_categorical=False, gamma=1.5, gpu_id=-1,\n",
       "                      importance_type=None, interaction_constraints='',\n",
       "                      learning_rate=0.5, max_delta_step=0, max_depth=10,\n",
       "                      min_child_weight=1, missing=nan, monotone_constraints='()',\n",
       "                      n_estimators=200, n_jobs=16, num_parallel_tree=1,\n",
       "                      predictor='auto', random_state=14192, reg_alpha=1,\n",
       "                      reg_lambda=1, scale_pos_weight=1, subsample=1,\n",
       "                      tree_method='exact', use_label_encoder=False,\n",
       "                      validate_parameters=1, verbosity=0)\n",
       " ),\n",
       " None,\n",
       " None]"
      ]
     },
     "execution_count": 11,
     "metadata": {},
     "output_type": "execute_result"
    }
   ],
   "source": [
    "estimators"
   ]
  },
  {
   "cell_type": "code",
   "execution_count": 4,
   "id": "c35e38ca",
   "metadata": {},
   "outputs": [],
   "source": [
    "# 越界会有提示，这个不用担心\n",
    "# 生成的数据长度也是对的"
   ]
  },
  {
   "cell_type": "code",
   "execution_count": 13,
   "id": "31e0a9c3",
   "metadata": {},
   "outputs": [
    {
     "name": "stderr",
     "output_type": "stream",
     "text": [
      "07-14 15:13:50 W hypergbm.experiment.py 330 - Index of 1 is None \n"
     ]
    },
    {
     "data": {
      "text/plain": [
       "<hypergbm.experiment.PipelineSHAPExplainer at 0x7f27203759a0>"
      ]
     },
     "execution_count": 13,
     "metadata": {},
     "output_type": "execute_result"
    }
   ],
   "source": [
    "from hypergbm.experiment import PipelineSHAPExplainer\n",
    "explainer = PipelineSHAPExplainer(pipeline, model_indexes=[0, 1])\n",
    "explainer"
   ]
  },
  {
   "cell_type": "code",
   "execution_count": 14,
   "id": "57357932",
   "metadata": {},
   "outputs": [
    {
     "name": "stdout",
     "output_type": "stream",
     "text": [
      "07-14 15:14:05 I hypernets.t.data_cleaner.py 233 - replace [inf,-inf] to nan\n",
      "07-14 15:14:05 I hypernets.t.data_cleaner.py 263 - convert object type to str, ['job', 'marital', 'education', 'default', 'housing', 'loan', 'contact', 'month', 'poutcome', 'y']\n",
      "07-14 15:14:05 I hypernets.t.data_cleaner.py 326 - drop columns: ['id', 'y']\n"
     ]
    }
   ],
   "source": [
    "values_list = explainer(df_test)"
   ]
  },
  {
   "cell_type": "code",
   "execution_count": 16,
   "id": "43fae404",
   "metadata": {},
   "outputs": [
    {
     "data": {
      "text/plain": [
       "2"
      ]
     },
     "execution_count": 16,
     "metadata": {},
     "output_type": "execute_result"
    }
   ],
   "source": [
    "len(values_list)"
   ]
  },
  {
   "cell_type": "code",
   "execution_count": 19,
   "id": "2f0e714e",
   "metadata": {},
   "outputs": [
    {
     "data": {
      "text/plain": [
       "[.values =\n",
       " array([[-0.04601034, -0.05447808, -0.00120919, ...,  0.01986399,\n",
       "          0.00437103, -0.03113517],\n",
       "        [-0.03627361, -0.04703718, -0.01184322, ..., -0.20124876,\n",
       "          0.3268084 ,  0.16695866],\n",
       "        [ 0.04598682, -0.04122588, -0.0009389 , ..., -0.05542494,\n",
       "          0.01025445, -0.02277257],\n",
       "        ...,\n",
       "        [-0.13013886, -0.07107649, -0.00536875, ...,  0.05891076,\n",
       "          0.07599318, -0.02277257],\n",
       "        [-0.11863654, -0.07270975, -0.00120919, ..., -0.05542494,\n",
       "          0.00142192, -0.02277257],\n",
       "        [-0.03792273, -0.06318229, -0.00307575, ...,  0.07540397,\n",
       "         -0.00507646, -0.04115214]], dtype=float32)\n",
       " \n",
       " .base_values =\n",
       " array([-2.422018, -2.422018, -2.422018, ..., -2.422018, -2.422018,\n",
       "        -2.422018], dtype=float32)\n",
       " \n",
       " .data =\n",
       " array([[2, 1, 1, ..., 0.9227767055365647, -0.41714648990965064,\n",
       "         -0.33354435418667516],\n",
       "        [4, 1, 2, ..., -0.24764172568969045, -0.38322851238034505,\n",
       "         2.6290440252355154],\n",
       "        [9, 1, 1, ..., 0.04527541978990511, -0.41714648990965064,\n",
       "         -0.33354435418667516],\n",
       "        ...,\n",
       "        [0, 1, 1, ..., -0.5407677247667696, 1.2160675809207875,\n",
       "         0.2598182671912546],\n",
       "        [4, 2, 2, ..., 0.04527541978990511, -0.41714648990965064,\n",
       "         -0.33354435418667516],\n",
       "        [0, 1, 1, ..., 1.5067387302707653, -0.41714648990965064,\n",
       "         -0.33354435418667516]], dtype=object),\n",
       " .values =\n",
       " array([[-0.02399946, -0.00437574,  0.01254502, ...,  0.        ,\n",
       "         -0.19799864, -0.00166443],\n",
       "        [-0.08092362, -0.00730301,  0.01430952, ...,  0.        ,\n",
       "         -0.29879287, -0.00183791],\n",
       "        [-0.10483621, -0.00303932,  0.01170909, ...,  0.        ,\n",
       "         -0.20969066, -0.00166443],\n",
       "        ...,\n",
       "        [-0.06873663, -0.00845716,  0.01141408, ...,  0.        ,\n",
       "          0.3276664 , -0.0213685 ],\n",
       "        [-0.01374676,  0.02185363,  0.01141408, ...,  0.        ,\n",
       "         -0.20712791, -0.00166443],\n",
       "        [-0.15173237, -0.01426376,  0.03393867, ...,  0.        ,\n",
       "         -0.2931226 , -0.00121494]], dtype=float32)\n",
       " \n",
       " .base_values =\n",
       " array([-2.3692446, -2.3692446, -2.3692446, ..., -2.3692446, -2.3692446,\n",
       "        -2.3692446], dtype=float32)\n",
       " \n",
       " .data =\n",
       " array([[2, 1, 1, ..., 0.9227767055365647, -0.41714648990965064,\n",
       "         -0.33354435418667516],\n",
       "        [4, 1, 2, ..., -0.24764172568969045, -0.38322851238034505,\n",
       "         2.6290440252355154],\n",
       "        [9, 1, 1, ..., 0.04527541978990511, -0.41714648990965064,\n",
       "         -0.33354435418667516],\n",
       "        ...,\n",
       "        [0, 1, 1, ..., -0.5407677247667696, 1.2160675809207875,\n",
       "         0.2598182671912546],\n",
       "        [4, 2, 2, ..., 0.04527541978990511, -0.41714648990965064,\n",
       "         -0.33354435418667516],\n",
       "        [0, 1, 1, ..., 1.5067387302707653, -0.41714648990965064,\n",
       "         -0.33354435418667516]], dtype=object),\n",
       " .values =\n",
       " array([[-0.06024518,  0.        , -0.00347515, ...,  0.        ,\n",
       "         -0.2759732 ,  0.        ],\n",
       "        [-0.01169696,  0.        , -0.00347515, ...,  0.        ,\n",
       "         -0.29783386,  0.        ],\n",
       "        [ 0.05473126,  0.        , -0.00347515, ...,  0.        ,\n",
       "         -0.2750196 ,  0.        ],\n",
       "        ...,\n",
       "        [-0.08159789,  0.        , -0.00347515, ...,  0.        ,\n",
       "          0.4704262 ,  0.        ],\n",
       "        [ 0.00364347,  0.        , -0.00153553, ...,  0.        ,\n",
       "         -0.2750196 ,  0.        ],\n",
       "        [-0.38419485,  0.        , -0.00347515, ...,  0.        ,\n",
       "         -0.27065867,  0.        ]], dtype=float32)\n",
       " \n",
       " .base_values =\n",
       " array([-2.2929692, -2.2929692, -2.2929692, ..., -2.2929692, -2.2929692,\n",
       "        -2.2929692], dtype=float32)\n",
       " \n",
       " .data =\n",
       " array([[2, 1, 1, ..., 0.9227767055365647, -0.41714648990965064,\n",
       "         -0.33354435418667516],\n",
       "        [4, 1, 2, ..., -0.24764172568969045, -0.38322851238034505,\n",
       "         2.6290440252355154],\n",
       "        [9, 1, 1, ..., 0.04527541978990511, -0.41714648990965064,\n",
       "         -0.33354435418667516],\n",
       "        ...,\n",
       "        [0, 1, 1, ..., -0.5407677247667696, 1.2160675809207875,\n",
       "         0.2598182671912546],\n",
       "        [4, 2, 2, ..., 0.04527541978990511, -0.41714648990965064,\n",
       "         -0.33354435418667516],\n",
       "        [0, 1, 1, ..., 1.5067387302707653, -0.41714648990965064,\n",
       "         -0.33354435418667516]], dtype=object)]"
      ]
     },
     "execution_count": 19,
     "metadata": {},
     "output_type": "execute_result"
    }
   ],
   "source": [
    "values_list[0]"
   ]
  },
  {
   "cell_type": "markdown",
   "id": "e30670b4",
   "metadata": {},
   "source": [
    "### Use the waterfall chart to interpret a prediction result "
   ]
  },
  {
   "cell_type": "code",
   "execution_count": 22,
   "id": "111b8eb9",
   "metadata": {},
   "outputs": [
    {
     "data": {
      "text/plain": [
       "id                  800\n",
       "age                  50\n",
       "job          management\n",
       "marital         married\n",
       "education      tertiary\n",
       "default              no\n",
       "balance            2881\n",
       "housing              no\n",
       "loan                 no\n",
       "contact        cellular\n",
       "day                   5\n",
       "month               aug\n",
       "duration            510\n",
       "campaign              2\n",
       "pdays                 2\n",
       "previous              5\n",
       "poutcome          other\n",
       "y                    no\n",
       "Name: 800, dtype: object"
      ]
     },
     "execution_count": 22,
     "metadata": {},
     "output_type": "execute_result"
    }
   ],
   "source": [
    "df_test.iloc[1]"
   ]
  },
  {
   "cell_type": "markdown",
   "id": "0b9b32f2",
   "metadata": {},
   "source": [
    "This sample is predicted to be positive，waterfall chart shows that the biggest contribution is `duration=510`, in other words, long talk time is an important factor that leads to the success of customers"
   ]
  },
  {
   "cell_type": "code",
   "execution_count": 29,
   "id": "e2fcf238",
   "metadata": {},
   "outputs": [],
   "source": [
    "shap_values = values_list[0][0]"
   ]
  },
  {
   "cell_type": "code",
   "execution_count": 32,
   "id": "d1709626",
   "metadata": {},
   "outputs": [
    {
     "data": {
      "text/plain": [
       "3617"
      ]
     },
     "execution_count": 32,
     "metadata": {},
     "output_type": "execute_result"
    }
   ],
   "source": [
    "len(shap_values)"
   ]
  },
  {
   "cell_type": "code",
   "execution_count": 33,
   "id": "1e99396a",
   "metadata": {},
   "outputs": [
    {
     "data": {
      "image/png": "[encoded data removed]",
      "text/plain": [
       "<Figure size 576x468 with 3 Axes>"
      ]
     },
     "metadata": {},
     "output_type": "display_data"
    }
   ],
   "source": [
    "import shap\n",
    "shap.plots.waterfall(shap_values[1])"
   ]
  },
  {
   "cell_type": "markdown",
   "id": "959a3e90",
   "metadata": {},
   "source": [
    "#### Use beeswarm chart to get an overview of which features are most important for a model\n",
    "\n",
    "This figure indicates that the most important feature is `duration`. Lhe long call duration has a strong impact on the positive prediction by the model."
   ]
  },
  {
   "cell_type": "code",
   "execution_count": 34,
   "id": "edc66114",
   "metadata": {},
   "outputs": [
    {
     "data": {
      "image/png": "[encoded data removed]",
      "text/plain": [
       "<Figure size 576x396 with 2 Axes>"
      ]
     },
     "metadata": {
      "needs_background": "light"
     },
     "output_type": "display_data"
    }
   ],
   "source": [
    "shap.plots.beeswarm(shap_values)"
   ]
  },
  {
   "cell_type": "markdown",
   "id": "32b7174f",
   "metadata": {},
   "source": [
    "### Understand the interaction effects between 2 features using dependence scatter \n",
    "\n",
    "Customers with long talk time and small interval between campaigns are more likely to succeed in marketing"
   ]
  },
  {
   "cell_type": "code",
   "execution_count": 35,
   "id": "c49780e8",
   "metadata": {},
   "outputs": [
    {
     "data": {
      "image/png": "[encoded data removed]",
      "text/plain": [
       "<Figure size 540x360 with 3 Axes>"
      ]
     },
     "metadata": {
      "needs_background": "light"
     },
     "output_type": "display_data"
    }
   ],
   "source": [
    "shap.plots.scatter(shap_values[:, \"duration\"], color=shap_values[:, \"pdays\"], show=True)"
   ]
  },
  {
   "cell_type": "code",
   "execution_count": null,
   "id": "557f7a3e",
   "metadata": {},
   "outputs": [],
   "source": []
  }
 ],
 "metadata": {
  "kernelspec": {
   "display_name": "hypergbm-dev",
   "language": "python",
   "name": "hypergbm-dev"
  },
  "language_info": {
   "codemirror_mode": {
    "name": "ipython",
    "version": 3
   },
   "file_extension": ".py",
   "mimetype": "text/x-python",
   "name": "python",
   "nbconvert_exporter": "python",
   "pygments_lexer": "ipython3",
   "version": "3.8.12"
  }
 },
 "nbformat": 4,
 "nbformat_minor": 5
}

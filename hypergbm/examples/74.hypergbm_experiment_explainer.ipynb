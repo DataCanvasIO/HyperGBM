{
 "cells": [
  {
   "cell_type": "markdown",
   "id": "ccde9278",
   "metadata": {},
   "source": [
    "#  A examples of how to explain models trained by CompleteExperiment  "
   ]
  },
  {
   "cell_type": "markdown",
   "id": "3a138a72",
   "metadata": {},
   "source": [
    "### Training a binary classification model using  HyperGBM\n",
    "\n",
    "We use cross validation to split the data and train the model, since that we can choose any model to interpret."
   ]
  },
  {
   "cell_type": "code",
   "execution_count": 1,
   "id": "3dc80ffd",
   "metadata": {},
   "outputs": [
    {
     "name": "stderr",
     "output_type": "stream",
     "text": [
      "<frozen importlib._bootstrap>:219: RuntimeWarning: scipy._lib.messagestream.MessageStream size changed, may indicate binary incompatibility. Expected 56 from C header, got 64 from PyObject\n",
      "/home/wuhf/miniconda3/envs/hypergbm-dev/lib/python3.8/site-packages/xgboost/compat.py:36: FutureWarning: pandas.Int64Index is deprecated and will be removed from pandas in a future version. Use pandas.Index with the appropriate dtype instead.\n",
      "  from pandas import MultiIndex, Int64Index\n"
     ]
    }
   ],
   "source": [
    "from sklearn.model_selection import train_test_split\n",
    "\n",
    "from hypergbm import make_experiment\n",
    "from hypernets.tabular.datasets import dsutils\n",
    "from hypernets.tabular.metrics import evaluate"
   ]
  },
  {
   "cell_type": "code",
   "execution_count": 2,
   "id": "71e4a740",
   "metadata": {
    "scrolled": false
   },
   "outputs": [
    {
     "data": {
      "text/markdown": [
       "### Input Data"
      ]
     },
     "metadata": {},
     "output_type": "display_data"
    },
    {
     "data": {
      "text/html": [
       "<div>\n",
       "<style scoped>\n",
       "    .dataframe tbody tr th:only-of-type {\n",
       "        vertical-align: middle;\n",
       "    }\n",
       "\n",
       "    .dataframe tbody tr th {\n",
       "        vertical-align: top;\n",
       "    }\n",
       "\n",
       "    .dataframe thead th {\n",
       "        text-align: right;\n",
       "    }\n",
       "</style>\n",
       "<table border=\"1\" class=\"dataframe\">\n",
       "  <thead>\n",
       "    <tr style=\"text-align: right;\">\n",
       "      <th></th>\n",
       "      <th>X_train.shape</th>\n",
       "      <th>y_train.shape</th>\n",
       "      <th>X_eval.shape</th>\n",
       "      <th>y_eval.shape</th>\n",
       "      <th>X_test.shape</th>\n",
       "      <th>Task</th>\n",
       "    </tr>\n",
       "  </thead>\n",
       "  <tbody>\n",
       "    <tr>\n",
       "      <th>0</th>\n",
       "      <td>(904, 17)</td>\n",
       "      <td>(904,)</td>\n",
       "      <td>None</td>\n",
       "      <td>None</td>\n",
       "      <td>None</td>\n",
       "      <td>binary(2)</td>\n",
       "    </tr>\n",
       "  </tbody>\n",
       "</table>\n",
       "</div>"
      ],
      "text/plain": [
       "  X_train.shape y_train.shape X_eval.shape y_eval.shape X_test.shape  \\\n",
       "0     (904, 17)        (904,)         None         None         None   \n",
       "\n",
       "        Task  \n",
       "0  binary(2)  "
      ]
     },
     "metadata": {},
     "output_type": "display_data"
    },
    {
     "data": {
      "image/png": "[encoded data removed]",
      "text/plain": [
       "<Figure size 640x320 with 1 Axes>"
      ]
     },
     "metadata": {
      "needs_background": "light"
     },
     "output_type": "display_data"
    },
    {
     "data": {
      "text/markdown": [
       "## Data Adaption"
      ]
     },
     "metadata": {},
     "output_type": "display_data"
    },
    {
     "data": {
      "text/markdown": [
       "### Initliazed parameters"
      ]
     },
     "metadata": {},
     "output_type": "display_data"
    },
    {
     "data": {
      "text/html": [
       "<div>\n",
       "<style scoped>\n",
       "    .dataframe tbody tr th:only-of-type {\n",
       "        vertical-align: middle;\n",
       "    }\n",
       "\n",
       "    .dataframe tbody tr th {\n",
       "        vertical-align: top;\n",
       "    }\n",
       "\n",
       "    .dataframe thead th {\n",
       "        text-align: right;\n",
       "    }\n",
       "</style>\n",
       "<table border=\"1\" class=\"dataframe\">\n",
       "  <thead>\n",
       "    <tr style=\"text-align: right;\">\n",
       "      <th></th>\n",
       "      <th>key</th>\n",
       "      <th>value</th>\n",
       "    </tr>\n",
       "  </thead>\n",
       "  <tbody>\n",
       "    <tr>\n",
       "      <th>0</th>\n",
       "      <td>memory_limit</td>\n",
       "      <td>0.05</td>\n",
       "    </tr>\n",
       "    <tr>\n",
       "      <th>1</th>\n",
       "      <td>min_cols</td>\n",
       "      <td>0.3</td>\n",
       "    </tr>\n",
       "    <tr>\n",
       "      <th>2</th>\n",
       "      <td>name</td>\n",
       "      <td>data_adaption</td>\n",
       "    </tr>\n",
       "    <tr>\n",
       "      <th>3</th>\n",
       "      <td>target</td>\n",
       "      <td>None</td>\n",
       "    </tr>\n",
       "  </tbody>\n",
       "</table>\n",
       "</div>"
      ],
      "text/plain": [
       "            key          value\n",
       "0  memory_limit           0.05\n",
       "1      min_cols            0.3\n",
       "2          name  data_adaption\n",
       "3        target           None"
      ]
     },
     "metadata": {},
     "output_type": "display_data"
    },
    {
     "data": {
      "text/markdown": [
       "### Fitted parameters"
      ]
     },
     "metadata": {},
     "output_type": "display_data"
    },
    {
     "data": {
      "text/html": [
       "<div>\n",
       "<style scoped>\n",
       "    .dataframe tbody tr th:only-of-type {\n",
       "        vertical-align: middle;\n",
       "    }\n",
       "\n",
       "    .dataframe tbody tr th {\n",
       "        vertical-align: top;\n",
       "    }\n",
       "\n",
       "    .dataframe thead th {\n",
       "        text-align: right;\n",
       "    }\n",
       "</style>\n",
       "<table border=\"1\" class=\"dataframe\">\n",
       "  <thead>\n",
       "    <tr style=\"text-align: right;\">\n",
       "      <th></th>\n",
       "      <th>key</th>\n",
       "      <th>value</th>\n",
       "    </tr>\n",
       "  </thead>\n",
       "  <tbody>\n",
       "    <tr>\n",
       "      <th>0</th>\n",
       "      <td>input_features</td>\n",
       "      <td>[id, age, job, marital, education, default, ba...</td>\n",
       "    </tr>\n",
       "    <tr>\n",
       "      <th>1</th>\n",
       "      <td>selected_features</td>\n",
       "      <td>[id, age, job, marital, education, default, ba...</td>\n",
       "    </tr>\n",
       "    <tr>\n",
       "      <th>2</th>\n",
       "      <td>unselected_features</td>\n",
       "      <td>[]</td>\n",
       "    </tr>\n",
       "  </tbody>\n",
       "</table>\n",
       "</div>"
      ],
      "text/plain": [
       "                   key                                              value\n",
       "0       input_features  [id, age, job, marital, education, default, ba...\n",
       "1    selected_features  [id, age, job, marital, education, default, ba...\n",
       "2  unselected_features                                                 []"
      ]
     },
     "metadata": {},
     "output_type": "display_data"
    },
    {
     "data": {
      "text/markdown": [
       "### Elapsed"
      ]
     },
     "metadata": {},
     "output_type": "display_data"
    },
    {
     "data": {
      "text/markdown": [
       "* 0.004 seconds"
      ]
     },
     "metadata": {},
     "output_type": "display_data"
    },
    {
     "data": {
      "text/markdown": [
       "## Data Clean"
      ]
     },
     "metadata": {},
     "output_type": "display_data"
    },
    {
     "data": {
      "text/markdown": [
       "### Initliazed parameters"
      ]
     },
     "metadata": {},
     "output_type": "display_data"
    },
    {
     "data": {
      "text/html": [
       "<div>\n",
       "<style scoped>\n",
       "    .dataframe tbody tr th:only-of-type {\n",
       "        vertical-align: middle;\n",
       "    }\n",
       "\n",
       "    .dataframe tbody tr th {\n",
       "        vertical-align: top;\n",
       "    }\n",
       "\n",
       "    .dataframe thead th {\n",
       "        text-align: right;\n",
       "    }\n",
       "</style>\n",
       "<table border=\"1\" class=\"dataframe\">\n",
       "  <thead>\n",
       "    <tr style=\"text-align: right;\">\n",
       "      <th></th>\n",
       "      <th>key</th>\n",
       "      <th>value</th>\n",
       "    </tr>\n",
       "  </thead>\n",
       "  <tbody>\n",
       "    <tr>\n",
       "      <th>0</th>\n",
       "      <td>cv</td>\n",
       "      <td>True</td>\n",
       "    </tr>\n",
       "    <tr>\n",
       "      <th>1</th>\n",
       "      <td>data_cleaner_args</td>\n",
       "      <td>{'nan_chars': None, 'correct_object_dtype': Tr...</td>\n",
       "    </tr>\n",
       "    <tr>\n",
       "      <th>2</th>\n",
       "      <td>name</td>\n",
       "      <td>data_clean</td>\n",
       "    </tr>\n",
       "    <tr>\n",
       "      <th>3</th>\n",
       "      <td>train_test_split_strategy</td>\n",
       "      <td>None</td>\n",
       "    </tr>\n",
       "  </tbody>\n",
       "</table>\n",
       "</div>"
      ],
      "text/plain": [
       "                         key  \\\n",
       "0                         cv   \n",
       "1          data_cleaner_args   \n",
       "2                       name   \n",
       "3  train_test_split_strategy   \n",
       "\n",
       "                                               value  \n",
       "0                                               True  \n",
       "1  {'nan_chars': None, 'correct_object_dtype': Tr...  \n",
       "2                                         data_clean  \n",
       "3                                               None  "
      ]
     },
     "metadata": {},
     "output_type": "display_data"
    },
    {
     "data": {
      "text/markdown": [
       "### Fitted parameters"
      ]
     },
     "metadata": {},
     "output_type": "display_data"
    },
    {
     "data": {
      "text/html": [
       "<div>\n",
       "<style scoped>\n",
       "    .dataframe tbody tr th:only-of-type {\n",
       "        vertical-align: middle;\n",
       "    }\n",
       "\n",
       "    .dataframe tbody tr th {\n",
       "        vertical-align: top;\n",
       "    }\n",
       "\n",
       "    .dataframe thead th {\n",
       "        text-align: right;\n",
       "    }\n",
       "</style>\n",
       "<table border=\"1\" class=\"dataframe\">\n",
       "  <thead>\n",
       "    <tr style=\"text-align: right;\">\n",
       "      <th></th>\n",
       "      <th>key</th>\n",
       "      <th>value</th>\n",
       "    </tr>\n",
       "  </thead>\n",
       "  <tbody>\n",
       "    <tr>\n",
       "      <th>0</th>\n",
       "      <td>input_features</td>\n",
       "      <td>[id, age, job, marital, education, default, ba...</td>\n",
       "    </tr>\n",
       "    <tr>\n",
       "      <th>1</th>\n",
       "      <td>selected_features</td>\n",
       "      <td>[age, job, marital, education, default, balanc...</td>\n",
       "    </tr>\n",
       "    <tr>\n",
       "      <th>2</th>\n",
       "      <td>unselected_features</td>\n",
       "      <td>[id]</td>\n",
       "    </tr>\n",
       "    <tr>\n",
       "      <th>3</th>\n",
       "      <td>X_train.shape</td>\n",
       "      <td>(904, 16)</td>\n",
       "    </tr>\n",
       "    <tr>\n",
       "      <th>4</th>\n",
       "      <td>y_train.shape</td>\n",
       "      <td>(904,)</td>\n",
       "    </tr>\n",
       "    <tr>\n",
       "      <th>5</th>\n",
       "      <td>X_eval.shape</td>\n",
       "      <td>None</td>\n",
       "    </tr>\n",
       "    <tr>\n",
       "      <th>6</th>\n",
       "      <td>y_eval.shape</td>\n",
       "      <td>None</td>\n",
       "    </tr>\n",
       "    <tr>\n",
       "      <th>7</th>\n",
       "      <td>X_test.shape</td>\n",
       "      <td>None</td>\n",
       "    </tr>\n",
       "    <tr>\n",
       "      <th>8</th>\n",
       "      <td>unselected_reason</td>\n",
       "      <td>{'id': 'idness'}</td>\n",
       "    </tr>\n",
       "    <tr>\n",
       "      <th>9</th>\n",
       "      <td>kept/dropped feature count</td>\n",
       "      <td>16/1</td>\n",
       "    </tr>\n",
       "  </tbody>\n",
       "</table>\n",
       "</div>"
      ],
      "text/plain": [
       "                          key  \\\n",
       "0              input_features   \n",
       "1           selected_features   \n",
       "2         unselected_features   \n",
       "3               X_train.shape   \n",
       "4               y_train.shape   \n",
       "5                X_eval.shape   \n",
       "6                y_eval.shape   \n",
       "7                X_test.shape   \n",
       "8           unselected_reason   \n",
       "9  kept/dropped feature count   \n",
       "\n",
       "                                               value  \n",
       "0  [id, age, job, marital, education, default, ba...  \n",
       "1  [age, job, marital, education, default, balanc...  \n",
       "2                                               [id]  \n",
       "3                                          (904, 16)  \n",
       "4                                             (904,)  \n",
       "5                                               None  \n",
       "6                                               None  \n",
       "7                                               None  \n",
       "8                                   {'id': 'idness'}  \n",
       "9                                               16/1  "
      ]
     },
     "metadata": {},
     "output_type": "display_data"
    },
    {
     "data": {
      "text/markdown": [
       "### Elapsed"
      ]
     },
     "metadata": {},
     "output_type": "display_data"
    },
    {
     "data": {
      "text/markdown": [
       "* 0.018 seconds"
      ]
     },
     "metadata": {},
     "output_type": "display_data"
    },
    {
     "data": {
      "text/markdown": [
       "## Space Searching"
      ]
     },
     "metadata": {},
     "output_type": "display_data"
    },
    {
     "data": {
      "text/markdown": [
       "### Initliazed parameters"
      ]
     },
     "metadata": {},
     "output_type": "display_data"
    },
    {
     "data": {
      "text/html": [
       "<div>\n",
       "<style scoped>\n",
       "    .dataframe tbody tr th:only-of-type {\n",
       "        vertical-align: middle;\n",
       "    }\n",
       "\n",
       "    .dataframe tbody tr th {\n",
       "        vertical-align: top;\n",
       "    }\n",
       "\n",
       "    .dataframe thead th {\n",
       "        text-align: right;\n",
       "    }\n",
       "</style>\n",
       "<table border=\"1\" class=\"dataframe\">\n",
       "  <thead>\n",
       "    <tr style=\"text-align: right;\">\n",
       "      <th></th>\n",
       "      <th>key</th>\n",
       "      <th>value</th>\n",
       "    </tr>\n",
       "  </thead>\n",
       "  <tbody>\n",
       "    <tr>\n",
       "      <th>0</th>\n",
       "      <td>cv</td>\n",
       "      <td>True</td>\n",
       "    </tr>\n",
       "    <tr>\n",
       "      <th>1</th>\n",
       "      <td>name</td>\n",
       "      <td>space_searching</td>\n",
       "    </tr>\n",
       "    <tr>\n",
       "      <th>2</th>\n",
       "      <td>num_folds</td>\n",
       "      <td>3</td>\n",
       "    </tr>\n",
       "  </tbody>\n",
       "</table>\n",
       "</div>"
      ],
      "text/plain": [
       "         key            value\n",
       "0         cv             True\n",
       "1       name  space_searching\n",
       "2  num_folds                3"
      ]
     },
     "metadata": {},
     "output_type": "display_data"
    },
    {
     "data": {
      "text/markdown": [
       "#### Experiment Settings:"
      ]
     },
     "metadata": {},
     "output_type": "display_data"
    },
    {
     "data": {
      "text/plain": [
       "HyperGBM(searcher=EvolutionSearcher(space_fn=GeneralSearchSpaceGenerator(kwargs=None, n_estimators=200, verbose=1), population_size=30, sample_size=10, regularized=True, optimize_direction='max', random_state=RandomState(MT19937) at 0x7F0D8BFEFC40), callbacks=[EarlyStoppingCallback(max_no_improvement_trials=10, mode='max', time_limit=3599.977079629898), NotebookCallback(), ProgressiveCallback(), FitCrossValidationCallback()], task='binary', discriminator=OncePercentileDiscriminator(percentile=50, history=TrialHistory(direction='max'), optimize_direction='max'))"
      ]
     },
     "metadata": {},
     "output_type": "display_data"
    },
    {
     "data": {
      "text/html": [
       "<div>\n",
       "<style scoped>\n",
       "    .dataframe tbody tr th:only-of-type {\n",
       "        vertical-align: middle;\n",
       "    }\n",
       "\n",
       "    .dataframe tbody tr th {\n",
       "        vertical-align: top;\n",
       "    }\n",
       "\n",
       "    .dataframe thead th {\n",
       "        text-align: right;\n",
       "    }\n",
       "</style>\n",
       "<table border=\"1\" class=\"dataframe\">\n",
       "  <thead>\n",
       "    <tr style=\"text-align: right;\">\n",
       "      <th></th>\n",
       "      <th>X</th>\n",
       "      <th>y</th>\n",
       "      <th>X_eval</th>\n",
       "      <th>y_eval</th>\n",
       "      <th>cv</th>\n",
       "      <th>num_folds</th>\n",
       "      <th>max_trials</th>\n",
       "      <th>fit_kwargs</th>\n",
       "    </tr>\n",
       "  </thead>\n",
       "  <tbody>\n",
       "    <tr>\n",
       "      <th>0</th>\n",
       "      <td>(904, 16)</td>\n",
       "      <td>(904,)</td>\n",
       "      <td>None</td>\n",
       "      <td>None</td>\n",
       "      <td>True</td>\n",
       "      <td>3</td>\n",
       "      <td>3</td>\n",
       "      <td>(verbose, skip_if_file)</td>\n",
       "    </tr>\n",
       "  </tbody>\n",
       "</table>\n",
       "</div>"
      ],
      "text/plain": [
       "           X       y X_eval y_eval    cv  num_folds  max_trials  \\\n",
       "0  (904, 16)  (904,)   None   None  True          3           3   \n",
       "\n",
       "                fit_kwargs  \n",
       "0  (verbose, skip_if_file)  "
      ]
     },
     "metadata": {},
     "output_type": "display_data"
    },
    {
     "data": {
      "text/markdown": [
       "#### Trials Summary:"
      ]
     },
     "metadata": {},
     "output_type": "display_data"
    },
    {
     "data": {
      "text/html": [
       "<div>\n",
       "<style scoped>\n",
       "    .dataframe tbody tr th:only-of-type {\n",
       "        vertical-align: middle;\n",
       "    }\n",
       "\n",
       "    .dataframe tbody tr th {\n",
       "        vertical-align: top;\n",
       "    }\n",
       "\n",
       "    .dataframe thead th {\n",
       "        text-align: right;\n",
       "    }\n",
       "</style>\n",
       "<table border=\"1\" class=\"dataframe\">\n",
       "  <thead>\n",
       "    <tr style=\"text-align: right;\">\n",
       "      <th></th>\n",
       "      <th>Trial No.</th>\n",
       "      <th>Previous reward</th>\n",
       "      <th>Best trial</th>\n",
       "      <th>Best reward</th>\n",
       "      <th>Total elapsed</th>\n",
       "      <th>Valid trials</th>\n",
       "      <th>Max trials</th>\n",
       "    </tr>\n",
       "  </thead>\n",
       "  <tbody>\n",
       "    <tr>\n",
       "      <th>0</th>\n",
       "      <td>3</td>\n",
       "      <td>0.893805</td>\n",
       "      <td>2</td>\n",
       "      <td>0.896018</td>\n",
       "      <td>3.453769</td>\n",
       "      <td>3</td>\n",
       "      <td>3</td>\n",
       "    </tr>\n",
       "  </tbody>\n",
       "</table>\n",
       "</div>"
      ],
      "text/plain": [
       "   Trial No.  Previous reward  Best trial  Best reward  Total elapsed  \\\n",
       "0          3         0.893805           2     0.896018       3.453769   \n",
       "\n",
       "   Valid trials  Max trials  \n",
       "0             3           3  "
      ]
     },
     "metadata": {},
     "output_type": "display_data"
    },
    {
     "data": {
      "text/markdown": [
       "#### Best Trial:"
      ]
     },
     "metadata": {},
     "output_type": "display_data"
    },
    {
     "data": {
      "text/html": [
       "<table border=\"1\" class=\"dataframe\">\n",
       "<thead>\n",
       "<tr style=\"text-align: right;\">\n",
       "  <th>key</th>\n",
       "  <th>value</th>\n",
       "</tr>\n",
       "</thead>\n",
       "<tbody><tr>\n",
       "  <td>signature</td>\n",
       "  <td>54e57250e8fc4f6e738335628f7175d5</td>\n",
       "</tr>\n",
       "<tr>\n",
       "  <td>vectors</td>\n",
       "  <td>[1, 0, 1, 3, 2, 2, 0, 3, 4]</td>\n",
       "</tr><tr>\n",
       "  <td>0-estimator_options.hp_or</td>\n",
       "  <td>1</td>\n",
       "</tr>\n",
       "<tr><tr>\n",
       "  <td>1-numeric_imputer_0.strategy</td>\n",
       "  <td>mean</td>\n",
       "</tr>\n",
       "<tr><tr>\n",
       "  <td>2-numeric_or_scaler_0.hp_or</td>\n",
       "  <td>1</td>\n",
       "</tr>\n",
       "<tr><tr>\n",
       "  <td>3-Module_XGBoostEstimator_1.max_depth</td>\n",
       "  <td>10</td>\n",
       "</tr>\n",
       "<tr><tr>\n",
       "  <td>4-Module_XGBoostEstimator_1.learning_rate</td>\n",
       "  <td>0.5</td>\n",
       "</tr>\n",
       "<tr><tr>\n",
       "  <td>5-Module_XGBoostEstimator_1.gamma</td>\n",
       "  <td>1.5</td>\n",
       "</tr>\n",
       "<tr><tr>\n",
       "  <td>6-Module_XGBoostEstimator_1.min_child_weight</td>\n",
       "  <td>1</td>\n",
       "</tr>\n",
       "<tr><tr>\n",
       "  <td>7-Module_XGBoostEstimator_1.reg_alpha</td>\n",
       "  <td>1</td>\n",
       "</tr>\n",
       "<tr><tr>\n",
       "  <td>8-Module_XGBoostEstimator_1.reg_lambda</td>\n",
       "  <td>1</td>\n",
       "</tr>\n",
       "<tr>  </tbody>\n",
       "</table>\n",
       "</div>"
      ],
      "text/plain": [
       "DAG_HyperSpace_1"
      ]
     },
     "metadata": {},
     "output_type": "display_data"
    },
    {
     "data": {
      "text/markdown": [
       "#### Top trials:"
      ]
     },
     "metadata": {},
     "output_type": "display_data"
    },
    {
     "data": {
      "text/html": [
       "<div>\n",
       "<style scoped>\n",
       "    .dataframe tbody tr th:only-of-type {\n",
       "        vertical-align: middle;\n",
       "    }\n",
       "\n",
       "    .dataframe tbody tr th {\n",
       "        vertical-align: top;\n",
       "    }\n",
       "\n",
       "    .dataframe thead th {\n",
       "        text-align: right;\n",
       "    }\n",
       "</style>\n",
       "<table border=\"1\" class=\"dataframe\">\n",
       "  <thead>\n",
       "    <tr style=\"text-align: right;\">\n",
       "      <th></th>\n",
       "      <th>Trial No.</th>\n",
       "      <th>Reward</th>\n",
       "      <th>Elapsed</th>\n",
       "      <th>Space Vector</th>\n",
       "    </tr>\n",
       "  </thead>\n",
       "  <tbody>\n",
       "    <tr>\n",
       "      <th>0</th>\n",
       "      <td>2</td>\n",
       "      <td>0.896018</td>\n",
       "      <td>0.990485</td>\n",
       "      <td>[1, 0, 1, 3, 2, 2, 0, 3, 4]</td>\n",
       "    </tr>\n",
       "    <tr>\n",
       "      <th>1</th>\n",
       "      <td>3</td>\n",
       "      <td>0.893805</td>\n",
       "      <td>0.996260</td>\n",
       "      <td>[0, 1, 3, 0, 20, 2, 3, 4, 1]</td>\n",
       "    </tr>\n",
       "    <tr>\n",
       "      <th>2</th>\n",
       "      <td>1</td>\n",
       "      <td>0.835177</td>\n",
       "      <td>1.172572</td>\n",
       "      <td>[0, 1, 1, 1, 170, 2, 3, 4, 4]</td>\n",
       "    </tr>\n",
       "  </tbody>\n",
       "</table>\n",
       "</div>"
      ],
      "text/plain": [
       "   Trial No.    Reward   Elapsed                   Space Vector\n",
       "0          2  0.896018  0.990485    [1, 0, 1, 3, 2, 2, 0, 3, 4]\n",
       "1          3  0.893805  0.996260   [0, 1, 3, 0, 20, 2, 3, 4, 1]\n",
       "2          1  0.835177  1.172572  [0, 1, 1, 1, 170, 2, 3, 4, 4]"
      ]
     },
     "metadata": {},
     "output_type": "display_data"
    },
    {
     "data": {
      "application/vnd.jupyter.widget-view+json": {
       "model_id": "",
       "version_major": 2,
       "version_minor": 0
      },
      "text/plain": [
       "search:   0%|          | 0/3 [00:00<?, ?it/s]"
      ]
     },
     "metadata": {},
     "output_type": "display_data"
    },
    {
     "data": {
      "application/vnd.jupyter.widget-view+json": {
       "model_id": "",
       "version_major": 2,
       "version_minor": 0
      },
      "text/plain": [
       "fit_cross_validation:   0%|          | 0/3 [00:00<?, ?it/s]"
      ]
     },
     "metadata": {},
     "output_type": "display_data"
    },
    {
     "data": {
      "text/markdown": [
       "### Fitted parameters"
      ]
     },
     "metadata": {},
     "output_type": "display_data"
    },
    {
     "data": {
      "text/html": [
       "<div>\n",
       "<style scoped>\n",
       "    .dataframe tbody tr th:only-of-type {\n",
       "        vertical-align: middle;\n",
       "    }\n",
       "\n",
       "    .dataframe tbody tr th {\n",
       "        vertical-align: top;\n",
       "    }\n",
       "\n",
       "    .dataframe thead th {\n",
       "        text-align: right;\n",
       "    }\n",
       "</style>\n",
       "<table border=\"1\" class=\"dataframe\">\n",
       "  <thead>\n",
       "    <tr style=\"text-align: right;\">\n",
       "      <th></th>\n",
       "      <th>key</th>\n",
       "      <th>value</th>\n",
       "    </tr>\n",
       "  </thead>\n",
       "  <tbody>\n",
       "    <tr>\n",
       "      <th>0</th>\n",
       "      <td>input_features</td>\n",
       "      <td>[age, job, marital, education, default, balanc...</td>\n",
       "    </tr>\n",
       "    <tr>\n",
       "      <th>1</th>\n",
       "      <td>best_reward</td>\n",
       "      <td>0.896018</td>\n",
       "    </tr>\n",
       "    <tr>\n",
       "      <th>2</th>\n",
       "      <td>history</td>\n",
       "      <td>TrialHistory(direction='max', size=3, succeede...</td>\n",
       "    </tr>\n",
       "  </tbody>\n",
       "</table>\n",
       "</div>"
      ],
      "text/plain": [
       "              key                                              value\n",
       "0  input_features  [age, job, marital, education, default, balanc...\n",
       "1     best_reward                                           0.896018\n",
       "2         history  TrialHistory(direction='max', size=3, succeede..."
      ]
     },
     "metadata": {},
     "output_type": "display_data"
    },
    {
     "data": {
      "text/markdown": [
       "### Elapsed"
      ]
     },
     "metadata": {},
     "output_type": "display_data"
    },
    {
     "data": {
      "text/markdown": [
       "* 3.479 seconds"
      ]
     },
     "metadata": {},
     "output_type": "display_data"
    },
    {
     "data": {
      "text/markdown": [
       "## Final Ensemble"
      ]
     },
     "metadata": {},
     "output_type": "display_data"
    },
    {
     "data": {
      "text/markdown": [
       "### Initliazed parameters"
      ]
     },
     "metadata": {},
     "output_type": "display_data"
    },
    {
     "data": {
      "text/html": [
       "<div>\n",
       "<style scoped>\n",
       "    .dataframe tbody tr th:only-of-type {\n",
       "        vertical-align: middle;\n",
       "    }\n",
       "\n",
       "    .dataframe tbody tr th {\n",
       "        vertical-align: top;\n",
       "    }\n",
       "\n",
       "    .dataframe thead th {\n",
       "        text-align: right;\n",
       "    }\n",
       "</style>\n",
       "<table border=\"1\" class=\"dataframe\">\n",
       "  <thead>\n",
       "    <tr style=\"text-align: right;\">\n",
       "      <th></th>\n",
       "      <th>key</th>\n",
       "      <th>value</th>\n",
       "    </tr>\n",
       "  </thead>\n",
       "  <tbody>\n",
       "    <tr>\n",
       "      <th>0</th>\n",
       "      <td>ensemble_size</td>\n",
       "      <td>20</td>\n",
       "    </tr>\n",
       "    <tr>\n",
       "      <th>1</th>\n",
       "      <td>name</td>\n",
       "      <td>final_ensemble</td>\n",
       "    </tr>\n",
       "    <tr>\n",
       "      <th>2</th>\n",
       "      <td>scorer</td>\n",
       "      <td>make_scorer(accuracy_score)</td>\n",
       "    </tr>\n",
       "  </tbody>\n",
       "</table>\n",
       "</div>"
      ],
      "text/plain": [
       "             key                        value\n",
       "0  ensemble_size                           20\n",
       "1           name               final_ensemble\n",
       "2         scorer  make_scorer(accuracy_score)"
      ]
     },
     "metadata": {},
     "output_type": "display_data"
    },
    {
     "data": {
      "text/markdown": [
       "### Fitted parameters"
      ]
     },
     "metadata": {},
     "output_type": "display_data"
    },
    {
     "data": {
      "text/html": [
       "<div>\n",
       "<style scoped>\n",
       "    .dataframe tbody tr th:only-of-type {\n",
       "        vertical-align: middle;\n",
       "    }\n",
       "\n",
       "    .dataframe tbody tr th {\n",
       "        vertical-align: top;\n",
       "    }\n",
       "\n",
       "    .dataframe thead th {\n",
       "        text-align: right;\n",
       "    }\n",
       "</style>\n",
       "<table border=\"1\" class=\"dataframe\">\n",
       "  <thead>\n",
       "    <tr style=\"text-align: right;\">\n",
       "      <th></th>\n",
       "      <th>0</th>\n",
       "      <th>1</th>\n",
       "    </tr>\n",
       "  </thead>\n",
       "  <tbody>\n",
       "    <tr>\n",
       "      <th>0</th>\n",
       "      <td>weights</td>\n",
       "      <td>[1.0, 0.0, 0.0]</td>\n",
       "    </tr>\n",
       "    <tr>\n",
       "      <th>1</th>\n",
       "      <td>scores</td>\n",
       "      <td>[0.9413716814159292, 0.9413716814159292, 0.941...</td>\n",
       "    </tr>\n",
       "    <tr>\n",
       "      <th>2</th>\n",
       "      <td>best_stack</td>\n",
       "      <td>[0, 0, 0, 0, 0, 0, 0, 0, 0, 0, 0, 0, 0, 0, 0, ...</td>\n",
       "    </tr>\n",
       "    <tr>\n",
       "      <th>3</th>\n",
       "      <td>hits</td>\n",
       "      <td>{0: 20}</td>\n",
       "    </tr>\n",
       "    <tr>\n",
       "      <th>4</th>\n",
       "      <td>ensemble_size</td>\n",
       "      <td>20</td>\n",
       "    </tr>\n",
       "  </tbody>\n",
       "</table>\n",
       "</div>"
      ],
      "text/plain": [
       "GreedyEnsemble(weight=[1.0, 0.0, 0.0], scores=[0.9413716814159292, 0.9413716814159292, 0.9413716814159292, 0.9413716814159292, 0.9413716814159292, 0.9413716814159292, 0.9413716814159292, 0.9413716814159292, 0.9413716814159292, 0.9413716814159292, 0.9413716814159292, 0.9413716814159292, 0.9413716814159292, 0.9413716814159292, 0.9413716814159292, 0.9413716814159292, 0.9413716814159292, 0.9413716814159292, 0.9413716814159292, 0.9413716814159292])"
      ]
     },
     "metadata": {},
     "output_type": "display_data"
    },
    {
     "data": {
      "text/markdown": [
       "### Elapsed"
      ]
     },
     "metadata": {},
     "output_type": "display_data"
    },
    {
     "data": {
      "text/markdown": [
       "* 2.271 seconds"
      ]
     },
     "metadata": {},
     "output_type": "display_data"
    },
    {
     "data": {
      "text/html": [
       "<style>#sk-container-id-1 {color: black;background-color: white;}#sk-container-id-1 pre{padding: 0;}#sk-container-id-1 div.sk-toggleable {background-color: white;}#sk-container-id-1 label.sk-toggleable__label {cursor: pointer;display: block;width: 100%;margin-bottom: 0;padding: 0.3em;box-sizing: border-box;text-align: center;}#sk-container-id-1 label.sk-toggleable__label-arrow:before {content: \"▸\";float: left;margin-right: 0.25em;color: #696969;}#sk-container-id-1 label.sk-toggleable__label-arrow:hover:before {color: black;}#sk-container-id-1 div.sk-estimator:hover label.sk-toggleable__label-arrow:before {color: black;}#sk-container-id-1 div.sk-toggleable__content {max-height: 0;max-width: 0;overflow: hidden;text-align: left;background-color: #f0f8ff;}#sk-container-id-1 div.sk-toggleable__content pre {margin: 0.2em;color: black;border-radius: 0.25em;background-color: #f0f8ff;}#sk-container-id-1 input.sk-toggleable__control:checked~div.sk-toggleable__content {max-height: 200px;max-width: 100%;overflow: auto;}#sk-container-id-1 input.sk-toggleable__control:checked~label.sk-toggleable__label-arrow:before {content: \"▾\";}#sk-container-id-1 div.sk-estimator input.sk-toggleable__control:checked~label.sk-toggleable__label {background-color: #d4ebff;}#sk-container-id-1 div.sk-label input.sk-toggleable__control:checked~label.sk-toggleable__label {background-color: #d4ebff;}#sk-container-id-1 input.sk-hidden--visually {border: 0;clip: rect(1px 1px 1px 1px);clip: rect(1px, 1px, 1px, 1px);height: 1px;margin: -1px;overflow: hidden;padding: 0;position: absolute;width: 1px;}#sk-container-id-1 div.sk-estimator {font-family: monospace;background-color: #f0f8ff;border: 1px dotted black;border-radius: 0.25em;box-sizing: border-box;margin-bottom: 0.5em;}#sk-container-id-1 div.sk-estimator:hover {background-color: #d4ebff;}#sk-container-id-1 div.sk-parallel-item::after {content: \"\";width: 100%;border-bottom: 1px solid gray;flex-grow: 1;}#sk-container-id-1 div.sk-label:hover label.sk-toggleable__label {background-color: #d4ebff;}#sk-container-id-1 div.sk-serial::before {content: \"\";position: absolute;border-left: 1px solid gray;box-sizing: border-box;top: 0;bottom: 0;left: 50%;z-index: 0;}#sk-container-id-1 div.sk-serial {display: flex;flex-direction: column;align-items: center;background-color: white;padding-right: 0.2em;padding-left: 0.2em;position: relative;}#sk-container-id-1 div.sk-item {position: relative;z-index: 1;}#sk-container-id-1 div.sk-parallel {display: flex;align-items: stretch;justify-content: center;background-color: white;position: relative;}#sk-container-id-1 div.sk-item::before, #sk-container-id-1 div.sk-parallel-item::before {content: \"\";position: absolute;border-left: 1px solid gray;box-sizing: border-box;top: 0;bottom: 0;left: 50%;z-index: -1;}#sk-container-id-1 div.sk-parallel-item {display: flex;flex-direction: column;z-index: 1;position: relative;background-color: white;}#sk-container-id-1 div.sk-parallel-item:first-child::after {align-self: flex-end;width: 50%;}#sk-container-id-1 div.sk-parallel-item:last-child::after {align-self: flex-start;width: 50%;}#sk-container-id-1 div.sk-parallel-item:only-child::after {width: 0;}#sk-container-id-1 div.sk-dashed-wrapped {border: 1px dashed gray;margin: 0 0.4em 0.5em 0.4em;box-sizing: border-box;padding-bottom: 0.4em;background-color: white;}#sk-container-id-1 div.sk-label label {font-family: monospace;font-weight: bold;display: inline-block;line-height: 1.2em;}#sk-container-id-1 div.sk-label-container {text-align: center;}#sk-container-id-1 div.sk-container {/* jupyter's `normalize.less` sets `[hidden] { display: none; }` but bootstrap.min.css set `[hidden] { display: none !important; }` so we also need the `!important` here to be able to override the default hidden behavior on the sphinx rendered scikit-learn.org. See: https://github.com/scikit-learn/scikit-learn/issues/21755 */display: inline-block !important;position: relative;}#sk-container-id-1 div.sk-text-repr-fallback {display: none;}</style><div id=\"sk-container-id-1\" class=\"sk-top-container\"><div class=\"sk-text-repr-fallback\"><pre>Pipeline(steps=[(&#x27;data_clean&#x27;,\n",
       "                 DataCleanStep(cv=True,\n",
       "                               data_cleaner_args={&#x27;correct_object_dtype&#x27;: True,\n",
       "                                                  &#x27;drop_columns&#x27;: None,\n",
       "                                                  &#x27;drop_constant_columns&#x27;: True,\n",
       "                                                  &#x27;drop_duplicated_columns&#x27;: False,\n",
       "                                                  &#x27;drop_idness_columns&#x27;: True,\n",
       "                                                  &#x27;drop_label_nan_rows&#x27;: True,\n",
       "                                                  &#x27;int_convert_to&#x27;: &#x27;float&#x27;,\n",
       "                                                  &#x27;nan_chars&#x27;: None,\n",
       "                                                  &#x27;reduce_mem_usage&#x27;: False,\n",
       "                                                  &#x27;reserve_columns&#x27;: None},\n",
       "                               name=&#x27;data_clean&#x27;)),\n",
       "                (&#x27;est...\n",
       "                 GreedyEnsemble(weight=[1.0, 0.0, 0.0], scores=[0.9413716814159292, 0.9413716814159292, 0.9413716814159292, 0.9413716814159292, 0.9413716814159292, 0.9413716814159292, 0.9413716814159292, 0.9413716814159292, 0.9413716814159292, 0.9413716814159292, 0.9413716814159292, 0.9413716814159292, 0.9413716814159292, 0.9413716814159292, 0.9413716814159292, 0.9413716814159292, 0.9413716814159292, 0.9413716814159292, 0.9413716814159292, 0.9413716814159292]))])</pre><b>In a Jupyter environment, please rerun this cell to show the HTML representation or trust the notebook. <br />On GitHub, the HTML representation is unable to render, please try loading this page with nbviewer.org.</b></div><div class=\"sk-container\" hidden><div class=\"sk-item sk-dashed-wrapped\"><div class=\"sk-label-container\"><div class=\"sk-label sk-toggleable\"><input class=\"sk-toggleable__control sk-hidden--visually\" id=\"sk-estimator-id-1\" type=\"checkbox\" ><label for=\"sk-estimator-id-1\" class=\"sk-toggleable__label sk-toggleable__label-arrow\">Pipeline</label><div class=\"sk-toggleable__content\"><pre>Pipeline(steps=[(&#x27;data_clean&#x27;,\n",
       "                 DataCleanStep(cv=True,\n",
       "                               data_cleaner_args={&#x27;correct_object_dtype&#x27;: True,\n",
       "                                                  &#x27;drop_columns&#x27;: None,\n",
       "                                                  &#x27;drop_constant_columns&#x27;: True,\n",
       "                                                  &#x27;drop_duplicated_columns&#x27;: False,\n",
       "                                                  &#x27;drop_idness_columns&#x27;: True,\n",
       "                                                  &#x27;drop_label_nan_rows&#x27;: True,\n",
       "                                                  &#x27;int_convert_to&#x27;: &#x27;float&#x27;,\n",
       "                                                  &#x27;nan_chars&#x27;: None,\n",
       "                                                  &#x27;reduce_mem_usage&#x27;: False,\n",
       "                                                  &#x27;reserve_columns&#x27;: None},\n",
       "                               name=&#x27;data_clean&#x27;)),\n",
       "                (&#x27;est...\n",
       "                 GreedyEnsemble(weight=[1.0, 0.0, 0.0], scores=[0.9413716814159292, 0.9413716814159292, 0.9413716814159292, 0.9413716814159292, 0.9413716814159292, 0.9413716814159292, 0.9413716814159292, 0.9413716814159292, 0.9413716814159292, 0.9413716814159292, 0.9413716814159292, 0.9413716814159292, 0.9413716814159292, 0.9413716814159292, 0.9413716814159292, 0.9413716814159292, 0.9413716814159292, 0.9413716814159292, 0.9413716814159292, 0.9413716814159292]))])</pre></div></div></div><div class=\"sk-serial\"><div class=\"sk-item\"><div class=\"sk-estimator sk-toggleable\"><input class=\"sk-toggleable__control sk-hidden--visually\" id=\"sk-estimator-id-2\" type=\"checkbox\" ><label for=\"sk-estimator-id-2\" class=\"sk-toggleable__label sk-toggleable__label-arrow\">DataCleanStep</label><div class=\"sk-toggleable__content\"><pre>DataCleanStep(cv=True,\n",
       "              data_cleaner_args={&#x27;correct_object_dtype&#x27;: True,\n",
       "                                 &#x27;drop_columns&#x27;: None,\n",
       "                                 &#x27;drop_constant_columns&#x27;: True,\n",
       "                                 &#x27;drop_duplicated_columns&#x27;: False,\n",
       "                                 &#x27;drop_idness_columns&#x27;: True,\n",
       "                                 &#x27;drop_label_nan_rows&#x27;: True,\n",
       "                                 &#x27;int_convert_to&#x27;: &#x27;float&#x27;, &#x27;nan_chars&#x27;: None,\n",
       "                                 &#x27;reduce_mem_usage&#x27;: False,\n",
       "                                 &#x27;reserve_columns&#x27;: None},\n",
       "              name=&#x27;data_clean&#x27;)</pre></div></div></div><div class=\"sk-item\"><div class=\"sk-estimator sk-toggleable\"><input class=\"sk-toggleable__control sk-hidden--visually\" id=\"sk-estimator-id-3\" type=\"checkbox\" ><label for=\"sk-estimator-id-3\" class=\"sk-toggleable__label sk-toggleable__label-arrow\">GreedyEnsemble</label><div class=\"sk-toggleable__content\"><pre>GreedyEnsemble(weight=[1.0, 0.0, 0.0], scores=[0.9413716814159292, 0.9413716814159292, 0.9413716814159292, 0.9413716814159292, 0.9413716814159292, 0.9413716814159292, 0.9413716814159292, 0.9413716814159292, 0.9413716814159292, 0.9413716814159292, 0.9413716814159292, 0.9413716814159292, 0.9413716814159292, 0.9413716814159292, 0.9413716814159292, 0.9413716814159292, 0.9413716814159292, 0.9413716814159292, 0.9413716814159292, 0.9413716814159292])</pre></div></div></div></div></div></div></div>"
      ],
      "text/plain": [
       "Pipeline(steps=[('data_clean',\n",
       "                 DataCleanStep(cv=True,\n",
       "                               data_cleaner_args={'correct_object_dtype': True,\n",
       "                                                  'drop_columns': None,\n",
       "                                                  'drop_constant_columns': True,\n",
       "                                                  'drop_duplicated_columns': False,\n",
       "                                                  'drop_idness_columns': True,\n",
       "                                                  'drop_label_nan_rows': True,\n",
       "                                                  'int_convert_to': 'float',\n",
       "                                                  'nan_chars': None,\n",
       "                                                  'reduce_mem_usage': False,\n",
       "                                                  'reserve_columns': None},\n",
       "                               name='data_clean')),\n",
       "                ('est...\n",
       "                 GreedyEnsemble(weight=[1.0, 0.0, 0.0], scores=[0.9413716814159292, 0.9413716814159292, 0.9413716814159292, 0.9413716814159292, 0.9413716814159292, 0.9413716814159292, 0.9413716814159292, 0.9413716814159292, 0.9413716814159292, 0.9413716814159292, 0.9413716814159292, 0.9413716814159292, 0.9413716814159292, 0.9413716814159292, 0.9413716814159292, 0.9413716814159292, 0.9413716814159292, 0.9413716814159292, 0.9413716814159292, 0.9413716814159292]))])"
      ]
     },
     "execution_count": 2,
     "metadata": {},
     "output_type": "execute_result"
    }
   ],
   "source": [
    "df = dsutils.load_bank()\n",
    "df_train, df_test = train_test_split(df, test_size=0.8, random_state=42)\n",
    "\n",
    "experiment = make_experiment(df_train, target='y',\n",
    "                             max_trials=3,\n",
    "                             log_level='warn',\n",
    "                             verbose=1,\n",
    "                             random_state=1234,\n",
    "                             skip_if_file='/tmp/skip.tag')\n",
    "\n",
    "pipeline = experiment.run()\n",
    "pipeline"
   ]
  },
  {
   "cell_type": "markdown",
   "id": "9f5627a8",
   "metadata": {},
   "source": [
    "查看集成模型"
   ]
  },
  {
   "cell_type": "markdown",
   "id": "19c5cbc8",
   "metadata": {},
   "source": [
    "### Calculate shap value"
   ]
  },
  {
   "cell_type": "code",
   "execution_count": 3,
   "id": "125c80ea",
   "metadata": {},
   "outputs": [
    {
     "data": {
      "text/plain": [
       "[HyperGBMEstimator(task=binary, reward_metric=accuracy, cv=True,\n",
       " data_pipeline: DataFrameMapper(df_out=True,\n",
       "                 df_out_dtype_transforms=[(ColumnSelector(include:['object']),\n",
       "                                           'int')],\n",
       "                 features=[(ColumnSelector(include:['object', 'category', 'bool']),\n",
       "                            Pipeline(steps=[('categorical_imputer_0',\n",
       "                                             SafeSimpleImputer(strategy='constant')),\n",
       "                                            ('categorical_label_encoder_0',\n",
       "                                             MultiLabelEncoder())])),\n",
       "                           (ColumnSelector(include:number, exclude:timedelta),\n",
       "                            Pipeline(steps=[('numeric_imputer_0',\n",
       "                                             FloatOutputImputer()),\n",
       "                                            ('numeric_log_standard_scaler_0',\n",
       "                                             LogStandardScaler())]))],\n",
       "                 input_df=True)\n",
       " gbm_model: XGBClassifierWrapper(base_score=0.5, booster='gbtree', colsample_bylevel=1,\n",
       "                      colsample_bynode=1, colsample_bytree=1,\n",
       "                      enable_categorical=False, gamma=1.5, gpu_id=-1,\n",
       "                      importance_type=None, interaction_constraints='',\n",
       "                      learning_rate=0.5, max_delta_step=0, max_depth=10,\n",
       "                      min_child_weight=1, missing=nan, monotone_constraints='()',\n",
       "                      n_estimators=200, n_jobs=16, num_parallel_tree=1,\n",
       "                      predictor='auto', random_state=14192, reg_alpha=1,\n",
       "                      reg_lambda=1, scale_pos_weight=1, subsample=1,\n",
       "                      tree_method='exact', use_label_encoder=False,\n",
       "                      validate_parameters=1, verbosity=0)\n",
       " ),\n",
       " None,\n",
       " None]"
      ]
     },
     "execution_count": 3,
     "metadata": {},
     "output_type": "execute_result"
    }
   ],
   "source": [
    "pipeline.steps[-1][1].estimators"
   ]
  },
  {
   "cell_type": "code",
   "execution_count": 4,
   "id": "31e0a9c3",
   "metadata": {},
   "outputs": [
    {
     "name": "stderr",
     "output_type": "stream",
     "text": [
      "08-01 10:47:13 W hypergbm.experiment.py 359 - Index of 1 is None \n"
     ]
    },
    {
     "data": {
      "text/plain": [
       "<hypergbm.experiment.PipelineSHAPExplainer at 0x7f0d8c1a5bb0>"
      ]
     },
     "execution_count": 4,
     "metadata": {},
     "output_type": "execute_result"
    }
   ],
   "source": [
    "from hypergbm.experiment import PipelineSHAPExplainer\n",
    "explainer = PipelineSHAPExplainer(pipeline, model_indexes=[0, 1])\n",
    "explainer"
   ]
  },
  {
   "cell_type": "code",
   "execution_count": 5,
   "id": "57357932",
   "metadata": {},
   "outputs": [
    {
     "data": {
      "text/plain": [
       "2"
      ]
     },
     "execution_count": 5,
     "metadata": {},
     "output_type": "execute_result"
    }
   ],
   "source": [
    "values_list = explainer(df_test)\n",
    "len(values_list)"
   ]
  },
  {
   "cell_type": "markdown",
   "id": "e30670b4",
   "metadata": {},
   "source": [
    "### Use the waterfall chart to interpret a prediction result "
   ]
  },
  {
   "cell_type": "code",
   "execution_count": 6,
   "id": "111b8eb9",
   "metadata": {},
   "outputs": [
    {
     "data": {
      "text/plain": [
       "id                  800\n",
       "age                  50\n",
       "job          management\n",
       "marital         married\n",
       "education      tertiary\n",
       "default              no\n",
       "balance            2881\n",
       "housing              no\n",
       "loan                 no\n",
       "contact        cellular\n",
       "day                   5\n",
       "month               aug\n",
       "duration            510\n",
       "campaign              2\n",
       "pdays                 2\n",
       "previous              5\n",
       "poutcome          other\n",
       "y                    no\n",
       "Name: 800, dtype: object"
      ]
     },
     "execution_count": 6,
     "metadata": {},
     "output_type": "execute_result"
    }
   ],
   "source": [
    "df_test.iloc[1]"
   ]
  },
  {
   "cell_type": "markdown",
   "id": "0b9b32f2",
   "metadata": {},
   "source": [
    "This sample is predicted to be positive，waterfall chart shows that the biggest contribution is `duration=510`, in other words, long talk time is an important factor that leads to the success of customers"
   ]
  },
  {
   "cell_type": "code",
   "execution_count": 7,
   "id": "e2fcf238",
   "metadata": {},
   "outputs": [
    {
     "data": {
      "text/plain": [
       "3617"
      ]
     },
     "execution_count": 7,
     "metadata": {},
     "output_type": "execute_result"
    }
   ],
   "source": [
    "shap_values = values_list[0][0]\n",
    "len(shap_values)"
   ]
  },
  {
   "cell_type": "code",
   "execution_count": 8,
   "id": "1e99396a",
   "metadata": {},
   "outputs": [
    {
     "data": {
      "image/png": "[encoded data removed]",
      "text/plain": [
       "<Figure size 576x468 with 3 Axes>"
      ]
     },
     "metadata": {},
     "output_type": "display_data"
    }
   ],
   "source": [
    "import shap\n",
    "shap.plots.waterfall(shap_values[1])"
   ]
  },
  {
   "cell_type": "markdown",
   "id": "959a3e90",
   "metadata": {},
   "source": [
    "#### Use beeswarm chart to get an overview of which features are most important for a model\n",
    "\n",
    "This figure indicates that the most important feature is `duration`. Lhe long call duration has a strong impact on the positive prediction by the model."
   ]
  },
  {
   "cell_type": "code",
   "execution_count": 9,
   "id": "edc66114",
   "metadata": {},
   "outputs": [
    {
     "data": {
      "image/png": "[encoded data removed]",
      "text/plain": [
       "<Figure size 576x396 with 2 Axes>"
      ]
     },
     "metadata": {
      "needs_background": "light"
     },
     "output_type": "display_data"
    }
   ],
   "source": [
    "shap.plots.beeswarm(shap_values)"
   ]
  },
  {
   "cell_type": "markdown",
   "id": "32b7174f",
   "metadata": {},
   "source": [
    "### Understand the interaction effects between 2 features using dependence scatter \n",
    "\n",
    "Customers with long talk time and small interval between campaigns are more likely to succeed in marketing"
   ]
  },
  {
   "cell_type": "code",
   "execution_count": 10,
   "id": "c49780e8",
   "metadata": {},
   "outputs": [
    {
     "data": {
      "image/png": "[encoded data removed]",
      "text/plain": [
       "<Figure size 540x360 with 3 Axes>"
      ]
     },
     "metadata": {
      "needs_background": "light"
     },
     "output_type": "display_data"
    }
   ],
   "source": [
    "shap.plots.scatter(shap_values[:, \"duration\"], color=shap_values[:, \"pdays\"], show=True)"
   ]
  },
  {
   "cell_type": "code",
   "execution_count": null,
   "id": "557f7a3e",
   "metadata": {},
   "outputs": [],
   "source": []
  }
 ],
 "metadata": {
  "kernelspec": {
   "display_name": "hypergbm-dev",
   "language": "python",
   "name": "hypergbm-dev"
  },
  "language_info": {
   "codemirror_mode": {
    "name": "ipython",
    "version": 3
   },
   "file_extension": ".py",
   "mimetype": "text/x-python",
   "name": "python",
   "nbconvert_exporter": "python",
   "pygments_lexer": "ipython3",
   "version": "3.8.12"
  }
 },
 "nbformat": 4,
 "nbformat_minor": 5
}

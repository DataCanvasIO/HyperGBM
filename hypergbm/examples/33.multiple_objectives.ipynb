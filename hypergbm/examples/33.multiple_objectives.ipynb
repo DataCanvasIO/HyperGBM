{
 "cells": [
  {
   "cell_type": "markdown",
   "source": [
    "## An example of multiple-objective optimization"
   ],
   "metadata": {
    "collapsed": false
   }
  },
  {
   "cell_type": "markdown",
   "source": [
    "### Use  MOEADSearcher optimize metric 'logloss' and 'elapsed'"
   ],
   "metadata": {
    "collapsed": false
   }
  },
  {
   "cell_type": "code",
   "execution_count": 4,
   "outputs": [],
   "source": [
    "import warnings\n",
    "warnings.filterwarnings(\"ignore\")\n",
    "\n",
    "from sklearn.model_selection import train_test_split\n",
    "\n",
    "from hypergbm import HyperGBM\n",
    "from hypergbm.search_space import search_space_general\n",
    "from hypergbm.tests import test_output_dir\n",
    "from hypernets.core.callbacks import *\n",
    "from hypernets.searchers.moead_searcher import MOEADSearcher\n",
    "from hypernets.tabular.datasets import dsutils\n",
    "\n",
    "\n",
    "objectives=['logloss', 'elapsed']\n",
    "\n",
    "rs = MOEADSearcher(search_space_general, objectives=objectives)\n",
    "\n",
    "hk = HyperGBM(rs, task='binary', reward_metric='logloss',\n",
    "              callbacks=[SummaryCallback(), FileLoggingCallback(rs, output_dir=f'{test_output_dir}/hyn_logs')])\n",
    "\n",
    "df = dsutils.load_bank()\n",
    "df.drop(['id'], axis=1, inplace=True)\n",
    "X_train, X_test = train_test_split(df, test_size=0.8, random_state=42)\n",
    "\n",
    "y_train = X_train.pop('y')\n",
    "y_test = X_test.pop('y')\n",
    "\n",
    "hk.search(X_train, y_train, X_test, y_test, max_trials=100)"
   ],
   "metadata": {
    "collapsed": false
   }
  },
  {
   "cell_type": "markdown",
   "source": [
    "###  Plot pareto front"
   ],
   "metadata": {
    "collapsed": false
   }
  },
  {
   "cell_type": "code",
   "execution_count": 5,
   "outputs": [
    {
     "name": "stderr",
     "output_type": "stream",
     "text": [
      "No artists with labels found to put in legend.  Note that artists whose label start with an underscore are ignored when legend() is called with no argument.\n"
     ]
    },
    {
     "data": {
      "text/plain": "<Figure size 432x288 with 1 Axes>",
      "image/png": "[encoded data removed]"
     },
     "metadata": {
      "needs_background": "light"
     },
     "output_type": "display_data"
    }
   ],
   "source": [
    "import matplotlib.pyplot as plt\n",
    "\n",
    "for trial in hk.history.trials:\n",
    "    plt.scatter([trial.elapsed], [trial.reward], c='blue') # , label='dominated'\n",
    "\n",
    "pf = rs.get_pf()\n",
    "\n",
    "for optimal in pf:\n",
    "    plt.scatter([optimal[1][objectives[0]]], [optimal[1][objectives[1]]], c='red') # , label='pf'\n",
    "\n",
    "plt.xlabel('elapsed')\n",
    "plt.ylabel('logloss')\n",
    "\n",
    "# plt.legend()\n",
    "plt.show()"
   ],
   "metadata": {
    "collapsed": false
   }
  }
 ],
 "metadata": {
  "kernelspec": {
   "display_name": "Python 3",
   "language": "python",
   "name": "python3"
  },
  "language_info": {
   "codemirror_mode": {
    "name": "ipython",
    "version": 2
   },
   "file_extension": ".py",
   "mimetype": "text/x-python",
   "name": "python",
   "nbconvert_exporter": "python",
   "pygments_lexer": "ipython2",
   "version": "2.7.6"
  }
 },
 "nbformat": 4,
 "nbformat_minor": 0
}

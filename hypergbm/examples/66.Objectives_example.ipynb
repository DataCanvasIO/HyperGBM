{
 "cells": [
  {
   "cell_type": "markdown",
   "metadata": {},
   "source": [
    "# Objectives example\n",
    "\n",
    "This is an example about how using NumOfFeatures to reduce model complexity\n"
   ]
  },
  {
   "cell_type": "markdown",
   "metadata": {},
   "source": [
    "## Import modules and prepare data"
   ]
  },
  {
   "cell_type": "code",
   "execution_count": 1,
   "metadata": {},
   "outputs": [
    {
     "name": "stderr",
     "output_type": "stream",
     "text": [
      "D:\\miniconda3\\envs\\hypergbm-dev\\lib\\site-packages\\tqdm\\auto.py:22: TqdmWarning: IProgress not found. Please update jupyter and ipywidgets. See https://ipywidgets.readthedocs.io/en/stable/user_install.html\n",
      "  from .autonotebook import tqdm as notebook_tqdm\n"
     ]
    }
   ],
   "source": [
    "from hypernets.core.random_state import set_random_state\n",
    "set_random_state(1234)\n",
    "\n",
    "\n",
    "from hypernets.utils import logging as hyn_logging\n",
    "from hypernets.examples.plain_model import PlainModel, PlainSearchSpace\n",
    "from hypergbm import make_experiment\n",
    "\n",
    "from hypernets.tabular import get_tool_box\n",
    "from hypernets.tabular.datasets import dsutils\n",
    "from hypernets.tabular.sklearn_ex import MultiLabelEncoder\n",
    "\n",
    "\n",
    "hyn_logging.set_level(hyn_logging.WARN)\n",
    "\n",
    "df = dsutils.load_bank().head(10000)\n",
    "tb = get_tool_box(df)\n",
    "df_train, df_test = tb.train_test_split(df, test_size=0.2, random_state=9527)"
   ]
  },
  {
   "cell_type": "markdown",
   "metadata": {},
   "source": [
    "## NumberOfFeatures objective example"
   ]
  },
  {
   "cell_type": "code",
   "execution_count": 2,
   "metadata": {
    "scrolled": false
   },
   "outputs": [],
   "source": [
    "import numpy as np\n",
    "\n",
    "experiment = make_experiment(df_train,\n",
    "                             eval_data=df_test.copy(),\n",
    "                             callbacks=[],\n",
    "                             search_callbacks=[],\n",
    "                             target='y',\n",
    "                             searcher='nsga2',  # available MOO searchers: moead, nsga2, rnsga2\n",
    "                             reward_metric='logloss',\n",
    "                             objectives=['nf'],  # use NumberOfFeatures as objective\n",
    "                             drift_detection=False)\n",
    "\n",
    "estimators = experiment.run(max_trials=30)"
   ]
  },
  {
   "cell_type": "code",
   "execution_count": 3,
   "metadata": {},
   "outputs": [
    {
     "data": {
      "text/html": [
       "<div>\n",
       "<style scoped>\n",
       "    .dataframe tbody tr th:only-of-type {\n",
       "        vertical-align: middle;\n",
       "    }\n",
       "\n",
       "    .dataframe tbody tr th {\n",
       "        vertical-align: top;\n",
       "    }\n",
       "\n",
       "    .dataframe thead th {\n",
       "        text-align: right;\n",
       "    }\n",
       "</style>\n",
       "<table border=\"1\" class=\"dataframe\">\n",
       "  <thead>\n",
       "    <tr style=\"text-align: right;\">\n",
       "      <th></th>\n",
       "      <th>trial_no</th>\n",
       "      <th>succeeded</th>\n",
       "      <th>non_dominated</th>\n",
       "      <th>reward_logloss</th>\n",
       "      <th>reward_nf</th>\n",
       "      <th>model_index</th>\n",
       "    </tr>\n",
       "  </thead>\n",
       "  <tbody>\n",
       "    <tr>\n",
       "      <th>0</th>\n",
       "      <td>1</td>\n",
       "      <td>True</td>\n",
       "      <td>True</td>\n",
       "      <td>0.214988</td>\n",
       "      <td>1.0000</td>\n",
       "      <td>0.0</td>\n",
       "    </tr>\n",
       "    <tr>\n",
       "      <th>1</th>\n",
       "      <td>2</td>\n",
       "      <td>True</td>\n",
       "      <td>True</td>\n",
       "      <td>0.226345</td>\n",
       "      <td>0.9375</td>\n",
       "      <td>1.0</td>\n",
       "    </tr>\n",
       "    <tr>\n",
       "      <th>3</th>\n",
       "      <td>4</td>\n",
       "      <td>True</td>\n",
       "      <td>True</td>\n",
       "      <td>0.236297</td>\n",
       "      <td>0.7500</td>\n",
       "      <td>2.0</td>\n",
       "    </tr>\n",
       "    <tr>\n",
       "      <th>4</th>\n",
       "      <td>5</td>\n",
       "      <td>True</td>\n",
       "      <td>True</td>\n",
       "      <td>0.230972</td>\n",
       "      <td>0.8125</td>\n",
       "      <td>3.0</td>\n",
       "    </tr>\n",
       "    <tr>\n",
       "      <th>7</th>\n",
       "      <td>8</td>\n",
       "      <td>True</td>\n",
       "      <td>True</td>\n",
       "      <td>0.579351</td>\n",
       "      <td>0.2500</td>\n",
       "      <td>4.0</td>\n",
       "    </tr>\n",
       "    <tr>\n",
       "      <th>9</th>\n",
       "      <td>10</td>\n",
       "      <td>True</td>\n",
       "      <td>True</td>\n",
       "      <td>0.236339</td>\n",
       "      <td>0.6875</td>\n",
       "      <td>5.0</td>\n",
       "    </tr>\n",
       "  </tbody>\n",
       "</table>\n",
       "</div>"
      ],
      "text/plain": [
       "   trial_no  succeeded  non_dominated  reward_logloss  reward_nf  model_index\n",
       "0         1       True           True        0.214988     1.0000          0.0\n",
       "1         2       True           True        0.226345     0.9375          1.0\n",
       "3         4       True           True        0.236297     0.7500          2.0\n",
       "4         5       True           True        0.230972     0.8125          3.0\n",
       "7         8       True           True        0.579351     0.2500          4.0\n",
       "9        10       True           True        0.236339     0.6875          5.0"
      ]
     },
     "execution_count": 3,
     "metadata": {},
     "output_type": "execute_result"
    }
   ],
   "source": [
    "df_trials = experiment.hyper_model_.history.to_df()\n",
    "df_trials[df_trials['non_dominated'] == True][['trial_no', 'succeeded', 'non_dominated', 'reward_logloss', 'reward_nf', 'model_index']]"
   ]
  },
  {
   "cell_type": "markdown",
   "metadata": {},
   "source": [
    "## Prediction performance objective example"
   ]
  },
  {
   "cell_type": "code",
   "execution_count": 4,
   "metadata": {},
   "outputs": [],
   "source": [
    "experiment = make_experiment(df_train,\n",
    "                             eval_data=df_test.copy(),\n",
    "                             callbacks=[],\n",
    "                             search_callbacks=[],\n",
    "                             target='y',\n",
    "                             searcher='nsga2',  # available MOO searchers: moead, nsga2, rnsga2\n",
    "                             reward_metric='logloss',\n",
    "                             objectives=['pred_perf'],  # use PredictionPerformanceObjective as objective\n",
    "                             drift_detection=False)\n",
    "estimators = experiment.run(max_trials=30)"
   ]
  },
  {
   "cell_type": "code",
   "execution_count": 5,
   "metadata": {},
   "outputs": [
    {
     "data": {
      "text/html": [
       "<div>\n",
       "<style scoped>\n",
       "    .dataframe tbody tr th:only-of-type {\n",
       "        vertical-align: middle;\n",
       "    }\n",
       "\n",
       "    .dataframe tbody tr th {\n",
       "        vertical-align: top;\n",
       "    }\n",
       "\n",
       "    .dataframe thead th {\n",
       "        text-align: right;\n",
       "    }\n",
       "</style>\n",
       "<table border=\"1\" class=\"dataframe\">\n",
       "  <thead>\n",
       "    <tr style=\"text-align: right;\">\n",
       "      <th></th>\n",
       "      <th>trial_no</th>\n",
       "      <th>succeeded</th>\n",
       "      <th>non_dominated</th>\n",
       "      <th>reward_logloss</th>\n",
       "      <th>reward_pred_perf</th>\n",
       "      <th>model_index</th>\n",
       "    </tr>\n",
       "  </thead>\n",
       "  <tbody>\n",
       "    <tr>\n",
       "      <th>6</th>\n",
       "      <td>7</td>\n",
       "      <td>True</td>\n",
       "      <td>True</td>\n",
       "      <td>0.217420</td>\n",
       "      <td>0.008502</td>\n",
       "      <td>0.0</td>\n",
       "    </tr>\n",
       "    <tr>\n",
       "      <th>9</th>\n",
       "      <td>10</td>\n",
       "      <td>True</td>\n",
       "      <td>True</td>\n",
       "      <td>0.229698</td>\n",
       "      <td>0.008000</td>\n",
       "      <td>1.0</td>\n",
       "    </tr>\n",
       "  </tbody>\n",
       "</table>\n",
       "</div>"
      ],
      "text/plain": [
       "   trial_no  succeeded  non_dominated  reward_logloss  reward_pred_perf   \n",
       "6         7       True           True        0.217420          0.008502  \\\n",
       "9        10       True           True        0.229698          0.008000   \n",
       "\n",
       "   model_index  \n",
       "6          0.0  \n",
       "9          1.0  "
      ]
     },
     "execution_count": 5,
     "metadata": {},
     "output_type": "execute_result"
    }
   ],
   "source": [
    "df_trials = experiment.hyper_model_.history.to_df()\n",
    "df_trials[df_trials['non_dominated'] == True][['trial_no', 'succeeded', 'non_dominated', 'reward_logloss', 'reward_pred_perf', 'model_index']]"
   ]
  },
  {
   "cell_type": "code",
   "execution_count": null,
   "metadata": {},
   "outputs": [],
   "source": []
  }
 ],
 "metadata": {
  "kernelspec": {
   "display_name": "Python 3 (ipykernel)",
   "language": "python",
   "name": "python3"
  },
  "language_info": {
   "codemirror_mode": {
    "name": "ipython",
    "version": 3
   },
   "file_extension": ".py",
   "mimetype": "text/x-python",
   "name": "python",
   "nbconvert_exporter": "python",
   "pygments_lexer": "ipython3",
   "version": "3.8.16"
  }
 },
 "nbformat": 4,
 "nbformat_minor": 1
}

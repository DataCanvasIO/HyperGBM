{
 "cells": [
  {
   "cell_type": "markdown",
   "metadata": {},
   "source": [
    "# MOEA/D Searcher example\n",
    "\n",
    "This is an example about how using MOEADSearcher for multi-objectives optimization."
   ]
  },
  {
   "cell_type": "markdown",
   "metadata": {},
   "source": [
    "## 1. Import modules and prepare data"
   ]
  },
  {
   "cell_type": "code",
   "execution_count": 1,
   "metadata": {},
   "outputs": [
    {
     "name": "stderr",
     "output_type": "stream",
     "text": [
      "D:\\miniconda3\\envs\\hypergbm-dev\\lib\\site-packages\\tqdm\\auto.py:22: TqdmWarning: IProgress not found. Please update jupyter and ipywidgets. See https://ipywidgets.readthedocs.io/en/stable/user_install.html\n",
      "  from .autonotebook import tqdm as notebook_tqdm\n"
     ]
    }
   ],
   "source": [
    "from hypernets.core.random_state import set_random_state\n",
    "set_random_state(1234)\n",
    "\n",
    "from hypernets.utils import logging as hyn_logging\n",
    "from hypernets.examples.plain_model import PlainModel, PlainSearchSpace\n",
    "from hypernets.searchers.nsga_searcher import RNSGAIISearcher\n",
    "\n",
    "from hypergbm import make_experiment\n",
    "\n",
    "from hypernets.tabular import get_tool_box\n",
    "from hypernets.tabular.datasets import dsutils\n",
    "from hypernets.tabular.sklearn_ex import MultiLabelEncoder\n",
    "\n",
    "\n",
    "hyn_logging.set_level(hyn_logging.WARN)\n",
    "\n",
    "df = dsutils.load_bank().head(1000)\n",
    "tb = get_tool_box(df)\n",
    "df_train, df_test = tb.train_test_split(df, test_size=0.2, random_state=9527)"
   ]
  },
  {
   "cell_type": "markdown",
   "metadata": {},
   "source": [
    "## 2. Run an experiment within NSGAIISearcher"
   ]
  },
  {
   "cell_type": "code",
   "execution_count": 2,
   "metadata": {
    "scrolled": false
   },
   "outputs": [
    {
     "data": {
      "text/plain": [
       "MOEADSearcher(objectives=[PredictionObjective(name=logloss, scorer=make_scorer(log_loss, needs_proba=True), direction=min), NumOfFeatures(name=nf, sample_size=1000, direction=min)], n_neighbors=2, recombination=SinglePointCrossOver(random_state=RandomState(MT19937)), mutation=SinglePointMutation(random_state=RandomState(MT19937), proba=0.3), population_size=6)"
      ]
     },
     "execution_count": 2,
     "metadata": {},
     "output_type": "execute_result"
    }
   ],
   "source": [
    "experiment = make_experiment(df_train,\n",
    "                             eval_data=df_test.copy(),\n",
    "                             callbacks=[],\n",
    "                             random_state=1234,\n",
    "                             search_callbacks=[],\n",
    "                             target='y',\n",
    "                             searcher='moead',  # available MOO searcher: moead, nsga2, rnsga2\n",
    "                             reward_metric='logloss',\n",
    "                             objectives=['nf'],\n",
    "                             drift_detection=False,\n",
    "                             early_stopping_rounds=30)\n",
    "\n",
    "estimators = experiment.run(max_trials=30)\n",
    "hyper_model = experiment.hyper_model_\n",
    "hyper_model.searcher"
   ]
  },
  {
   "cell_type": "code",
   "execution_count": 3,
   "metadata": {},
   "outputs": [
    {
     "data": {
      "text/plain": [
       "True"
      ]
     },
     "execution_count": 3,
     "metadata": {},
     "output_type": "execute_result"
    }
   ],
   "source": [
    "len(hyper_model.history.trials) > 0"
   ]
  },
  {
   "cell_type": "code",
   "execution_count": 4,
   "metadata": {},
   "outputs": [
    {
     "data": {
      "text/html": [
       "<div>\n",
       "<style scoped>\n",
       "    .dataframe tbody tr th:only-of-type {\n",
       "        vertical-align: middle;\n",
       "    }\n",
       "\n",
       "    .dataframe tbody tr th {\n",
       "        vertical-align: top;\n",
       "    }\n",
       "\n",
       "    .dataframe thead th {\n",
       "        text-align: right;\n",
       "    }\n",
       "</style>\n",
       "<table border=\"1\" class=\"dataframe\">\n",
       "  <thead>\n",
       "    <tr style=\"text-align: right;\">\n",
       "      <th></th>\n",
       "      <th>trial_no</th>\n",
       "      <th>succeeded</th>\n",
       "      <th>reward</th>\n",
       "      <th>elapsed</th>\n",
       "      <th>scores</th>\n",
       "    </tr>\n",
       "  </thead>\n",
       "  <tbody>\n",
       "    <tr>\n",
       "      <th>0</th>\n",
       "      <td>1</td>\n",
       "      <td>True</td>\n",
       "      <td>[0.35221276771413107, 0.3125]</td>\n",
       "      <td>0.418392</td>\n",
       "      <td>None</td>\n",
       "    </tr>\n",
       "    <tr>\n",
       "      <th>1</th>\n",
       "      <td>2</td>\n",
       "      <td>True</td>\n",
       "      <td>[0.5695202678255886, 0.0]</td>\n",
       "      <td>2.553146</td>\n",
       "      <td>None</td>\n",
       "    </tr>\n",
       "    <tr>\n",
       "      <th>2</th>\n",
       "      <td>3</td>\n",
       "      <td>True</td>\n",
       "      <td>[0.5648588411327944, 0.0]</td>\n",
       "      <td>4.134358</td>\n",
       "      <td>None</td>\n",
       "    </tr>\n",
       "    <tr>\n",
       "      <th>3</th>\n",
       "      <td>4</td>\n",
       "      <td>True</td>\n",
       "      <td>[0.563789653698866, 0.0]</td>\n",
       "      <td>3.318031</td>\n",
       "      <td>None</td>\n",
       "    </tr>\n",
       "    <tr>\n",
       "      <th>4</th>\n",
       "      <td>5</td>\n",
       "      <td>True</td>\n",
       "      <td>[0.33582202590638843, 0.5]</td>\n",
       "      <td>0.319535</td>\n",
       "      <td>None</td>\n",
       "    </tr>\n",
       "    <tr>\n",
       "      <th>5</th>\n",
       "      <td>6</td>\n",
       "      <td>True</td>\n",
       "      <td>[0.6243262551262284, 0.0]</td>\n",
       "      <td>0.396044</td>\n",
       "      <td>None</td>\n",
       "    </tr>\n",
       "    <tr>\n",
       "      <th>6</th>\n",
       "      <td>7</td>\n",
       "      <td>True</td>\n",
       "      <td>[0.5612684342508204, 0.0]</td>\n",
       "      <td>2.651040</td>\n",
       "      <td>None</td>\n",
       "    </tr>\n",
       "    <tr>\n",
       "      <th>7</th>\n",
       "      <td>8</td>\n",
       "      <td>True</td>\n",
       "      <td>[0.35221276771413107, 0.3125]</td>\n",
       "      <td>0.357057</td>\n",
       "      <td>None</td>\n",
       "    </tr>\n",
       "    <tr>\n",
       "      <th>8</th>\n",
       "      <td>9</td>\n",
       "      <td>True</td>\n",
       "      <td>[0.34442090598487324, 0.0625]</td>\n",
       "      <td>2.582907</td>\n",
       "      <td>None</td>\n",
       "    </tr>\n",
       "    <tr>\n",
       "      <th>9</th>\n",
       "      <td>10</td>\n",
       "      <td>True</td>\n",
       "      <td>[0.3594343809466066, 0.5]</td>\n",
       "      <td>0.351461</td>\n",
       "      <td>None</td>\n",
       "    </tr>\n",
       "    <tr>\n",
       "      <th>10</th>\n",
       "      <td>11</td>\n",
       "      <td>True</td>\n",
       "      <td>[0.35083045319100487, 0.25]</td>\n",
       "      <td>0.378046</td>\n",
       "      <td>None</td>\n",
       "    </tr>\n",
       "    <tr>\n",
       "      <th>11</th>\n",
       "      <td>12</td>\n",
       "      <td>True</td>\n",
       "      <td>[0.5679304899260448, 0.0]</td>\n",
       "      <td>2.502895</td>\n",
       "      <td>None</td>\n",
       "    </tr>\n",
       "    <tr>\n",
       "      <th>12</th>\n",
       "      <td>14</td>\n",
       "      <td>False</td>\n",
       "      <td>0</td>\n",
       "      <td>0.320604</td>\n",
       "      <td>NaN</td>\n",
       "    </tr>\n",
       "    <tr>\n",
       "      <th>13</th>\n",
       "      <td>15</td>\n",
       "      <td>True</td>\n",
       "      <td>[0.5633187958477059, 0.0]</td>\n",
       "      <td>2.592297</td>\n",
       "      <td>None</td>\n",
       "    </tr>\n",
       "    <tr>\n",
       "      <th>14</th>\n",
       "      <td>18</td>\n",
       "      <td>True</td>\n",
       "      <td>[0.5681716689803928, 0.0]</td>\n",
       "      <td>2.429117</td>\n",
       "      <td>None</td>\n",
       "    </tr>\n",
       "    <tr>\n",
       "      <th>15</th>\n",
       "      <td>19</td>\n",
       "      <td>True</td>\n",
       "      <td>[0.5640345097061562, 0.0]</td>\n",
       "      <td>3.315290</td>\n",
       "      <td>None</td>\n",
       "    </tr>\n",
       "    <tr>\n",
       "      <th>16</th>\n",
       "      <td>20</td>\n",
       "      <td>False</td>\n",
       "      <td>0</td>\n",
       "      <td>0.296077</td>\n",
       "      <td>NaN</td>\n",
       "    </tr>\n",
       "    <tr>\n",
       "      <th>17</th>\n",
       "      <td>21</td>\n",
       "      <td>True</td>\n",
       "      <td>[0.382476069563934, 0.25]</td>\n",
       "      <td>0.418051</td>\n",
       "      <td>None</td>\n",
       "    </tr>\n",
       "    <tr>\n",
       "      <th>18</th>\n",
       "      <td>23</td>\n",
       "      <td>True</td>\n",
       "      <td>[0.570982712087429, 0.0]</td>\n",
       "      <td>2.480175</td>\n",
       "      <td>None</td>\n",
       "    </tr>\n",
       "    <tr>\n",
       "      <th>19</th>\n",
       "      <td>24</td>\n",
       "      <td>True</td>\n",
       "      <td>[0.3181125895172445, 0.8125]</td>\n",
       "      <td>1.213594</td>\n",
       "      <td>None</td>\n",
       "    </tr>\n",
       "    <tr>\n",
       "      <th>20</th>\n",
       "      <td>27</td>\n",
       "      <td>True</td>\n",
       "      <td>[0.5631510031006884, 0.0]</td>\n",
       "      <td>2.389374</td>\n",
       "      <td>None</td>\n",
       "    </tr>\n",
       "    <tr>\n",
       "      <th>21</th>\n",
       "      <td>29</td>\n",
       "      <td>True</td>\n",
       "      <td>[0.5665905642218209, 0.0]</td>\n",
       "      <td>2.396053</td>\n",
       "      <td>None</td>\n",
       "    </tr>\n",
       "    <tr>\n",
       "      <th>22</th>\n",
       "      <td>30</td>\n",
       "      <td>True</td>\n",
       "      <td>[0.32524139989934797, 0.75]</td>\n",
       "      <td>0.266575</td>\n",
       "      <td>None</td>\n",
       "    </tr>\n",
       "  </tbody>\n",
       "</table>\n",
       "</div>"
      ],
      "text/plain": [
       "    trial_no  succeeded                         reward   elapsed scores\n",
       "0          1       True  [0.35221276771413107, 0.3125]  0.418392   None\n",
       "1          2       True      [0.5695202678255886, 0.0]  2.553146   None\n",
       "2          3       True      [0.5648588411327944, 0.0]  4.134358   None\n",
       "3          4       True       [0.563789653698866, 0.0]  3.318031   None\n",
       "4          5       True     [0.33582202590638843, 0.5]  0.319535   None\n",
       "5          6       True      [0.6243262551262284, 0.0]  0.396044   None\n",
       "6          7       True      [0.5612684342508204, 0.0]  2.651040   None\n",
       "7          8       True  [0.35221276771413107, 0.3125]  0.357057   None\n",
       "8          9       True  [0.34442090598487324, 0.0625]  2.582907   None\n",
       "9         10       True      [0.3594343809466066, 0.5]  0.351461   None\n",
       "10        11       True    [0.35083045319100487, 0.25]  0.378046   None\n",
       "11        12       True      [0.5679304899260448, 0.0]  2.502895   None\n",
       "12        14      False                              0  0.320604    NaN\n",
       "13        15       True      [0.5633187958477059, 0.0]  2.592297   None\n",
       "14        18       True      [0.5681716689803928, 0.0]  2.429117   None\n",
       "15        19       True      [0.5640345097061562, 0.0]  3.315290   None\n",
       "16        20      False                              0  0.296077    NaN\n",
       "17        21       True      [0.382476069563934, 0.25]  0.418051   None\n",
       "18        23       True       [0.570982712087429, 0.0]  2.480175   None\n",
       "19        24       True   [0.3181125895172445, 0.8125]  1.213594   None\n",
       "20        27       True      [0.5631510031006884, 0.0]  2.389374   None\n",
       "21        29       True      [0.5665905642218209, 0.0]  2.396053   None\n",
       "22        30       True    [0.32524139989934797, 0.75]  0.266575   None"
      ]
     },
     "execution_count": 4,
     "metadata": {},
     "output_type": "execute_result"
    }
   ],
   "source": [
    "from hypernets.core.trial import DominateBasedTrialHistory\n",
    "super(DominateBasedTrialHistory, hyper_model.history).to_df(include_params=False)"
   ]
  },
  {
   "cell_type": "markdown",
   "metadata": {},
   "source": [
    "## 3. Summary trails"
   ]
  },
  {
   "cell_type": "code",
   "execution_count": 5,
   "metadata": {},
   "outputs": [
    {
     "ename": "IndexError",
     "evalue": "tuple index out of range",
     "output_type": "error",
     "traceback": [
      "\u001b[1;31m---------------------------------------------------------------------------\u001b[0m",
      "\u001b[1;31mIndexError\u001b[0m                                Traceback (most recent call last)",
      "Cell \u001b[1;32mIn[5], line 1\u001b[0m\n\u001b[1;32m----> 1\u001b[0m df_trials \u001b[38;5;241m=\u001b[39m \u001b[43mhyper_model\u001b[49m\u001b[38;5;241;43m.\u001b[39;49m\u001b[43mhistory\u001b[49m\u001b[38;5;241;43m.\u001b[39;49m\u001b[43mto_df\u001b[49m\u001b[43m(\u001b[49m\u001b[43m)\u001b[49m\u001b[38;5;241m.\u001b[39mcopy()\u001b[38;5;241m.\u001b[39mdrop([\u001b[38;5;124m'\u001b[39m\u001b[38;5;124mscores\u001b[39m\u001b[38;5;124m'\u001b[39m, \u001b[38;5;124m'\u001b[39m\u001b[38;5;124mreward\u001b[39m\u001b[38;5;124m'\u001b[39m], axis\u001b[38;5;241m=\u001b[39m\u001b[38;5;241m1\u001b[39m)\n\u001b[0;32m      2\u001b[0m df_trials[df_trials[\u001b[38;5;124m'\u001b[39m\u001b[38;5;124mnon_dominated\u001b[39m\u001b[38;5;124m'\u001b[39m] \u001b[38;5;241m==\u001b[39m \u001b[38;5;28;01mTrue\u001b[39;00m]\n",
      "File \u001b[1;32m~\\PycharmProjects\\Hypernets\\hypernets\\core\\trial.py:404\u001b[0m, in \u001b[0;36mDominateBasedTrialHistory.to_df\u001b[1;34m(self, include_params)\u001b[0m\n\u001b[0;32m    401\u001b[0m df[\u001b[38;5;124m'\u001b[39m\u001b[38;5;124mmodel_index\u001b[39m\u001b[38;5;124m'\u001b[39m] \u001b[38;5;241m=\u001b[39m [ns\u001b[38;5;241m.\u001b[39mindex(t) \u001b[38;5;28;01mif\u001b[39;00m t \u001b[38;5;129;01min\u001b[39;00m ns \u001b[38;5;28;01melse\u001b[39;00m \u001b[38;5;28;01mNone\u001b[39;00m \u001b[38;5;28;01mfor\u001b[39;00m t \u001b[38;5;129;01min\u001b[39;00m \u001b[38;5;28mself\u001b[39m\u001b[38;5;241m.\u001b[39mtrials]\n\u001b[0;32m    403\u001b[0m scores: np\u001b[38;5;241m.\u001b[39mndarray \u001b[38;5;241m=\u001b[39m np\u001b[38;5;241m.\u001b[39marray(df[\u001b[38;5;124m'\u001b[39m\u001b[38;5;124mreward\u001b[39m\u001b[38;5;124m'\u001b[39m]\u001b[38;5;241m.\u001b[39mvalues\u001b[38;5;241m.\u001b[39mtolist())\n\u001b[1;32m--> 404\u001b[0m \u001b[38;5;28;01massert\u001b[39;00m \u001b[43mscores\u001b[49m\u001b[38;5;241;43m.\u001b[39;49m\u001b[43mshape\u001b[49m\u001b[43m[\u001b[49m\u001b[38;5;241;43m1\u001b[39;49m\u001b[43m]\u001b[49m \u001b[38;5;241m==\u001b[39m \u001b[38;5;28mlen\u001b[39m(\u001b[38;5;28mself\u001b[39m\u001b[38;5;241m.\u001b[39mobjective_names)\n\u001b[0;32m    405\u001b[0m \u001b[38;5;28;01mfor\u001b[39;00m i, name \u001b[38;5;129;01min\u001b[39;00m \u001b[38;5;28menumerate\u001b[39m(\u001b[38;5;28mself\u001b[39m\u001b[38;5;241m.\u001b[39mobjective_names):\n\u001b[0;32m    406\u001b[0m     df[\u001b[38;5;124mf\u001b[39m\u001b[38;5;124m'\u001b[39m\u001b[38;5;124mreward_\u001b[39m\u001b[38;5;132;01m{\u001b[39;00mname\u001b[38;5;132;01m}\u001b[39;00m\u001b[38;5;124m'\u001b[39m] \u001b[38;5;241m=\u001b[39m scores[:, i]\n",
      "\u001b[1;31mIndexError\u001b[0m: tuple index out of range"
     ]
    }
   ],
   "source": [
    "df_trials = hyper_model.history.to_df().copy().drop(['scores', 'reward'], axis=1)\n",
    "df_trials[df_trials['non_dominated'] == True]"
   ]
  },
  {
   "cell_type": "markdown",
   "metadata": {},
   "source": [
    "## 4. Plot pareto font\n",
    "\n",
    "We can pick model accord to Decision Maker's preferences from the pareto plot, the number in the figure indicates the index of pipeline models.\n"
   ]
  },
  {
   "cell_type": "code",
   "execution_count": null,
   "metadata": {
    "scrolled": true
   },
   "outputs": [],
   "source": [
    "fig, ax  = hyper_model.history.plot_best_trials()\n",
    "fig.show()"
   ]
  },
  {
   "cell_type": "markdown",
   "metadata": {},
   "source": [
    "## 5. Plot population"
   ]
  },
  {
   "cell_type": "code",
   "execution_count": null,
   "metadata": {},
   "outputs": [],
   "source": [
    "fig, ax  = hyper_model.searcher.plot_population()\n",
    "fig.show()"
   ]
  },
  {
   "cell_type": "markdown",
   "metadata": {},
   "source": [
    "## 6. Evaluate the selected model"
   ]
  },
  {
   "cell_type": "code",
   "execution_count": null,
   "metadata": {},
   "outputs": [],
   "source": [
    "print(f\"Number of pipeline: {len(estimators)} \")\n",
    "\n",
    "pipeline_model = estimators[0]  # selection the first pipeline model\n",
    "X_test = df_test.copy()\n",
    "y_test = X_test.pop('y')\n",
    "\n",
    "preds = pipeline_model.predict(X_test)\n",
    "proba = pipeline_model.predict_proba(X_test)\n",
    "\n",
    "tb.metrics.calc_score(y_test, preds, proba, metrics=['auc', 'accuracy', 'f1', 'recall', 'precision'], pos_label=\"yes\")"
   ]
  },
  {
   "cell_type": "code",
   "execution_count": null,
   "metadata": {},
   "outputs": [],
   "source": []
  }
 ],
 "metadata": {
  "kernelspec": {
   "display_name": "Python 3 (ipykernel)",
   "language": "python",
   "name": "python3"
  },
  "language_info": {
   "codemirror_mode": {
    "name": "ipython",
    "version": 3
   },
   "file_extension": ".py",
   "mimetype": "text/x-python",
   "name": "python",
   "nbconvert_exporter": "python",
   "pygments_lexer": "ipython3",
   "version": "3.8.16"
  }
 },
 "nbformat": 4,
 "nbformat_minor": 1
}

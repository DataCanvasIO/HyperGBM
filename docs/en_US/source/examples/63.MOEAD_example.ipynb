{
 "cells": [
  {
   "cell_type": "markdown",
   "metadata": {},
   "source": [
    "# MOEA/D Searcher example\n",
    "\n",
    "This is an example about how using MOEADSearcher for multi-objectives optimization."
   ]
  },
  {
   "cell_type": "markdown",
   "metadata": {},
   "source": [
    "## 1. Import modules and prepare data"
   ]
  },
  {
   "cell_type": "code",
   "execution_count": 1,
   "metadata": {},
   "outputs": [],
   "source": [
    "from hypernets.core.random_state import set_random_state\n",
    "set_random_state(1234)\n",
    "\n",
    "from hypernets.utils import logging as hyn_logging\n",
    "from hypernets.examples.plain_model import PlainModel, PlainSearchSpace\n",
    "from hypernets.searchers.nsga_searcher import RNSGAIISearcher\n",
    "\n",
    "from hypergbm import make_experiment\n",
    "\n",
    "from hypernets.tabular import get_tool_box\n",
    "from hypernets.tabular.datasets import dsutils\n",
    "from hypernets.tabular.sklearn_ex import MultiLabelEncoder\n",
    "\n",
    "\n",
    "hyn_logging.set_level(hyn_logging.WARN)\n",
    "\n",
    "df = dsutils.load_bank().head(1000)\n",
    "tb = get_tool_box(df)\n",
    "df_train, df_test = tb.train_test_split(df, test_size=0.2, random_state=9527)"
   ]
  },
  {
   "cell_type": "markdown",
   "metadata": {},
   "source": [
    "## 2. Run an experiment within NSGAIISearcher"
   ]
  },
  {
   "cell_type": "code",
   "execution_count": 2,
   "metadata": {
    "scrolled": false
   },
   "outputs": [
    {
     "data": {
      "text/plain": [
       "MOEADSearcher(objectives=[PredictionObjective(name=logloss, scorer=make_scorer(log_loss, needs_proba=True), direction=min), NumOfFeatures(name=nf, sample_size=1000, direction=min)], n_neighbors=2, recombination=SinglePointCrossOver(random_state=RandomState(MT19937)), mutation=SinglePointMutation(random_state=RandomState(MT19937), proba=0.7), population_size=6)"
      ]
     },
     "execution_count": 2,
     "metadata": {},
     "output_type": "execute_result"
    }
   ],
   "source": [
    "experiment = make_experiment(df_train,\n",
    "                             eval_data=df_test.copy(),\n",
    "                             callbacks=[],\n",
    "                             random_state=1234,\n",
    "                             search_callbacks=[],\n",
    "                             target='y',\n",
    "                             searcher='moead',  # available MOO searcher: moead, nsga2, rnsga2\n",
    "                             reward_metric='logloss',\n",
    "                             objectives=['nf'],\n",
    "                             drift_detection=False,\n",
    "                             early_stopping_rounds=30)\n",
    "\n",
    "estimators = experiment.run(max_trials=30)\n",
    "hyper_model = experiment.hyper_model_\n",
    "hyper_model.searcher"
   ]
  },
  {
   "cell_type": "markdown",
   "metadata": {},
   "source": [
    "## 3. Summary trails"
   ]
  },
  {
   "cell_type": "code",
   "execution_count": 3,
   "metadata": {},
   "outputs": [
    {
     "data": {
      "text/html": [
       "<div>\n",
       "<style scoped>\n",
       "    .dataframe tbody tr th:only-of-type {\n",
       "        vertical-align: middle;\n",
       "    }\n",
       "\n",
       "    .dataframe tbody tr th {\n",
       "        vertical-align: top;\n",
       "    }\n",
       "\n",
       "    .dataframe thead th {\n",
       "        text-align: right;\n",
       "    }\n",
       "</style>\n",
       "<table border=\"1\" class=\"dataframe\">\n",
       "  <thead>\n",
       "    <tr style=\"text-align: right;\">\n",
       "      <th></th>\n",
       "      <th>trial_no</th>\n",
       "      <th>succeeded</th>\n",
       "      <th>elapsed</th>\n",
       "      <th>non_dominated</th>\n",
       "      <th>model_index</th>\n",
       "      <th>reward_logloss</th>\n",
       "      <th>reward_nf</th>\n",
       "    </tr>\n",
       "  </thead>\n",
       "  <tbody>\n",
       "    <tr>\n",
       "      <th>4</th>\n",
       "      <td>5</td>\n",
       "      <td>True</td>\n",
       "      <td>0.446323</td>\n",
       "      <td>True</td>\n",
       "      <td>0.0</td>\n",
       "      <td>0.217409</td>\n",
       "      <td>0.625</td>\n",
       "    </tr>\n",
       "    <tr>\n",
       "      <th>6</th>\n",
       "      <td>7</td>\n",
       "      <td>True</td>\n",
       "      <td>4.100305</td>\n",
       "      <td>True</td>\n",
       "      <td>1.0</td>\n",
       "      <td>0.537368</td>\n",
       "      <td>0.0</td>\n",
       "    </tr>\n",
       "    <tr>\n",
       "      <th>8</th>\n",
       "      <td>9</td>\n",
       "      <td>True</td>\n",
       "      <td>4.796208</td>\n",
       "      <td>True</td>\n",
       "      <td>2.0</td>\n",
       "      <td>0.253515</td>\n",
       "      <td>0.125</td>\n",
       "    </tr>\n",
       "    <tr>\n",
       "      <th>9</th>\n",
       "      <td>10</td>\n",
       "      <td>True</td>\n",
       "      <td>1.060251</td>\n",
       "      <td>True</td>\n",
       "      <td>3.0</td>\n",
       "      <td>0.246395</td>\n",
       "      <td>0.5625</td>\n",
       "    </tr>\n",
       "    <tr>\n",
       "      <th>22</th>\n",
       "      <td>30</td>\n",
       "      <td>True</td>\n",
       "      <td>0.366623</td>\n",
       "      <td>True</td>\n",
       "      <td>4.0</td>\n",
       "      <td>0.177716</td>\n",
       "      <td>0.75</td>\n",
       "    </tr>\n",
       "  </tbody>\n",
       "</table>\n",
       "</div>"
      ],
      "text/plain": [
       "    trial_no  succeeded   elapsed  non_dominated  model_index reward_logloss  \\\n",
       "4          5       True  0.446323           True          0.0       0.217409   \n",
       "6          7       True  4.100305           True          1.0       0.537368   \n",
       "8          9       True  4.796208           True          2.0       0.253515   \n",
       "9         10       True  1.060251           True          3.0       0.246395   \n",
       "22        30       True  0.366623           True          4.0       0.177716   \n",
       "\n",
       "   reward_nf  \n",
       "4      0.625  \n",
       "6        0.0  \n",
       "8      0.125  \n",
       "9     0.5625  \n",
       "22      0.75  "
      ]
     },
     "execution_count": 3,
     "metadata": {},
     "output_type": "execute_result"
    }
   ],
   "source": [
    "df_trials = hyper_model.history.to_df().copy().drop(['scores', 'reward'], axis=1)\n",
    "df_trials[df_trials['non_dominated'] == True]"
   ]
  },
  {
   "cell_type": "markdown",
   "metadata": {},
   "source": [
    "## 4. Plot pareto font\n",
    "\n",
    "We can pick model accord to Decision Maker's preferences from the pareto plot, the number in the figure indicates the index of pipeline models.\n"
   ]
  },
  {
   "cell_type": "code",
   "execution_count": 4,
   "metadata": {
    "scrolled": false
   },
   "outputs": [
    {
     "data": {
      "image/png": "[encoded data removed]",
      "text/plain": [
       "<Figure size 500x500 with 1 Axes>"
      ]
     },
     "metadata": {},
     "output_type": "display_data"
    }
   ],
   "source": [
    "fig, ax  = hyper_model.history.plot_best_trials()\n",
    "fig.show()"
   ]
  },
  {
   "cell_type": "markdown",
   "metadata": {},
   "source": [
    "## 5. Plot population"
   ]
  },
  {
   "cell_type": "code",
   "execution_count": 5,
   "metadata": {},
   "outputs": [
    {
     "data": {
      "image/png": "[encoded data removed]",
      "text/plain": [
       "<Figure size 1200x600 with 2 Axes>"
      ]
     },
     "metadata": {},
     "output_type": "display_data"
    }
   ],
   "source": [
    "fig, ax  = hyper_model.searcher.plot_population()\n",
    "fig.show()"
   ]
  },
  {
   "cell_type": "markdown",
   "metadata": {},
   "source": [
    "## 6. Evaluate the selected model"
   ]
  },
  {
   "cell_type": "code",
   "execution_count": 6,
   "metadata": {},
   "outputs": [
    {
     "name": "stdout",
     "output_type": "stream",
     "text": [
      "Number of pipeline: 5 \n"
     ]
    },
    {
     "data": {
      "text/plain": [
       "{'auc': 0.8417038690476191,\n",
       " 'accuracy': 0.855,\n",
       " 'f1': 0.17142857142857143,\n",
       " 'recall': 0.09375,\n",
       " 'precision': 1.0}"
      ]
     },
     "execution_count": 6,
     "metadata": {},
     "output_type": "execute_result"
    }
   ],
   "source": [
    "print(f\"Number of pipeline: {len(estimators)} \")\n",
    "\n",
    "pipeline_model = estimators[0]  # selection the first pipeline model\n",
    "X_test = df_test.copy()\n",
    "y_test = X_test.pop('y')\n",
    "\n",
    "preds = pipeline_model.predict(X_test)\n",
    "proba = pipeline_model.predict_proba(X_test)\n",
    "\n",
    "tb.metrics.calc_score(y_test, preds, proba, metrics=['auc', 'accuracy', 'f1', 'recall', 'precision'], pos_label=\"yes\")"
   ]
  },
  {
   "cell_type": "markdown",
   "metadata": {},
   "source": [
    "## Automatically convert metric to negatives for minimize"
   ]
  },
  {
   "cell_type": "code",
   "execution_count": 7,
   "metadata": {},
   "outputs": [
    {
     "data": {
      "text/html": [
       "<div>\n",
       "<style scoped>\n",
       "    .dataframe tbody tr th:only-of-type {\n",
       "        vertical-align: middle;\n",
       "    }\n",
       "\n",
       "    .dataframe tbody tr th {\n",
       "        vertical-align: top;\n",
       "    }\n",
       "\n",
       "    .dataframe thead th {\n",
       "        text-align: right;\n",
       "    }\n",
       "</style>\n",
       "<table border=\"1\" class=\"dataframe\">\n",
       "  <thead>\n",
       "    <tr style=\"text-align: right;\">\n",
       "      <th></th>\n",
       "      <th>trial_no</th>\n",
       "      <th>succeeded</th>\n",
       "      <th>elapsed</th>\n",
       "      <th>non_dominated</th>\n",
       "      <th>model_index</th>\n",
       "      <th>reward_accuracy</th>\n",
       "      <th>reward_precision</th>\n",
       "    </tr>\n",
       "  </thead>\n",
       "  <tbody>\n",
       "    <tr>\n",
       "      <th>0</th>\n",
       "      <td>1</td>\n",
       "      <td>True</td>\n",
       "      <td>0.645476</td>\n",
       "      <td>False</td>\n",
       "      <td>NaN</td>\n",
       "      <td>-0.91</td>\n",
       "      <td>-0.777778</td>\n",
       "    </tr>\n",
       "    <tr>\n",
       "      <th>1</th>\n",
       "      <td>2</td>\n",
       "      <td>True</td>\n",
       "      <td>0.752835</td>\n",
       "      <td>False</td>\n",
       "      <td>NaN</td>\n",
       "      <td>-0.8975</td>\n",
       "      <td>-0.0</td>\n",
       "    </tr>\n",
       "    <tr>\n",
       "      <th>2</th>\n",
       "      <td>3</td>\n",
       "      <td>True</td>\n",
       "      <td>0.779298</td>\n",
       "      <td>False</td>\n",
       "      <td>NaN</td>\n",
       "      <td>-0.8975</td>\n",
       "      <td>-0.0</td>\n",
       "    </tr>\n",
       "    <tr>\n",
       "      <th>3</th>\n",
       "      <td>4</td>\n",
       "      <td>True</td>\n",
       "      <td>0.737511</td>\n",
       "      <td>False</td>\n",
       "      <td>NaN</td>\n",
       "      <td>-0.905</td>\n",
       "      <td>-0.625</td>\n",
       "    </tr>\n",
       "    <tr>\n",
       "      <th>4</th>\n",
       "      <td>5</td>\n",
       "      <td>True</td>\n",
       "      <td>0.498275</td>\n",
       "      <td>False</td>\n",
       "      <td>NaN</td>\n",
       "      <td>-0.90625</td>\n",
       "      <td>-0.733333</td>\n",
       "    </tr>\n",
       "  </tbody>\n",
       "</table>\n",
       "</div>"
      ],
      "text/plain": [
       "   trial_no  succeeded   elapsed  non_dominated  model_index reward_accuracy  \\\n",
       "0         1       True  0.645476          False          NaN           -0.91   \n",
       "1         2       True  0.752835          False          NaN         -0.8975   \n",
       "2         3       True  0.779298          False          NaN         -0.8975   \n",
       "3         4       True  0.737511          False          NaN          -0.905   \n",
       "4         5       True  0.498275          False          NaN        -0.90625   \n",
       "\n",
       "  reward_precision  \n",
       "0        -0.777778  \n",
       "1             -0.0  \n",
       "2             -0.0  \n",
       "3           -0.625  \n",
       "4        -0.733333  "
      ]
     },
     "execution_count": 7,
     "metadata": {},
     "output_type": "execute_result"
    }
   ],
   "source": [
    "experiment = make_experiment(df_train,\n",
    "                             eval_data=df_test.copy(),\n",
    "                             callbacks=[],\n",
    "                             random_state=1234,\n",
    "                             search_callbacks=[],\n",
    "                             target='y',\n",
    "                             pos_label=\"yes\",\n",
    "                             searcher='moead',\n",
    "                             reward_metric='accuracy',\n",
    "                             objectives=['precision'],\n",
    "                             drift_detection=False,\n",
    "                             early_stopping_rounds=30)\n",
    "\n",
    "estimators = experiment.run(max_trials=30)\n",
    "hyper_model = experiment.hyper_model_\n",
    "hyper_model.history.to_df().copy().drop(['scores', 'reward'], axis=1)[:5]"
   ]
  },
  {
   "cell_type": "code",
   "execution_count": null,
   "metadata": {},
   "outputs": [],
   "source": []
  }
 ],
 "metadata": {
  "kernelspec": {
   "display_name": "Python 3 (ipykernel)",
   "language": "python",
   "name": "python3"
  },
  "language_info": {
   "codemirror_mode": {
    "name": "ipython",
    "version": 3
   },
   "file_extension": ".py",
   "mimetype": "text/x-python",
   "name": "python",
   "nbconvert_exporter": "python",
   "pygments_lexer": "ipython3",
   "version": "3.8.16"
  }
 },
 "nbformat": 4,
 "nbformat_minor": 1
}
